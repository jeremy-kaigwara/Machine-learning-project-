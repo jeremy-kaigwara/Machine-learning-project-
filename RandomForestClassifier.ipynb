{
  "nbformat": 4,
  "nbformat_minor": 0,
  "metadata": {
    "colab": {
      "provenance": [],
      "include_colab_link": true
    },
    "interpreter": {
      "hash": "1e915f0a29dc84041eaeb02b7b1a21c440e37a87b61d44d5e84a515737dc82bc"
    },
    "kernelspec": {
      "display_name": "Python 3.8.5 64-bit ('base': conda)",
      "name": "python3"
    },
    "language_info": {
      "codemirror_mode": {
        "name": "ipython",
        "version": 3
      },
      "file_extension": ".py",
      "mimetype": "text/x-python",
      "name": "python",
      "nbconvert_exporter": "python",
      "pygments_lexer": "ipython3",
      "version": "3.8.5"
    }
  },
  "cells": [
    {
      "cell_type": "markdown",
      "metadata": {
        "id": "view-in-github",
        "colab_type": "text"
      },
      "source": [
        "<a href=\"https://colab.research.google.com/github/jeremy-kaigwara/Machine-learning-project-/blob/main/RandomForestClassifier.ipynb\" target=\"_parent\"><img src=\"https://colab.research.google.com/assets/colab-badge.svg\" alt=\"Open In Colab\"/></a>"
      ]
    },
    {
      "cell_type": "markdown",
      "metadata": {
        "id": "eK-8I1Laf3FL"
      },
      "source": [
        "# CREDIT  RISK MODELLING "
      ]
    },
    {
      "cell_type": "markdown",
      "metadata": {
        "id": "Ke8GScoof3FP"
      },
      "source": [
        "## Setting the Background\n",
        "The most pressing questions for banks are how efficiently can we guage the risk profile of our customers and how can we use this information to decide on the required liquidity while still maintaining our regulatory obligations. \n",
        "\n",
        "With the constantly changing customer portfolio and the ever increasing customer base a more robust non-hardcoded approach is neccessary to achieve these antagonistic goals. \n",
        "\n",
        "Thus comes the idea of using machine learning to develop a behavioural scorecard to pull data from both internal sources, customer transactions and their demographic data, to predict the probability of default. \n",
        "\n",
        "In this notebook we are going to explore the data cleaning and transformation as well as machine learing modelling in predicting probability of default. We will then use these results to develop a credit rating. \n",
        "\n",
        "Further we will explore the callibration and validation of the developed model to assess compliance with industry benchmarks and regulatory requirements. "
      ]
    },
    {
      "cell_type": "markdown",
      "metadata": {
        "id": "7kNkHIhgf3FR"
      },
      "source": [
        "We will eplore the following concepts in the notebook\n",
        "1. Data cleaning - Struucturing the data for modelling \n",
        "2. What to do with missing values \n",
        "3. How to deal with class imbalance and the implications. \n",
        "4. How to choose the most appropriate modelling technique based on the reporting expectations"
      ]
    },
    {
      "cell_type": "code",
      "metadata": {
        "id": "x5Yot1dN9AyH"
      },
      "source": [
        "import pandas as pd\n",
        "import numpy as np\n",
        "import matplotlib.pyplot as plt #Visualization\n",
        "import seaborn as sns #Advanced Visualization\n",
        "%matplotlib inline\n"
      ],
      "execution_count": null,
      "outputs": []
    },
    {
      "cell_type": "code",
      "metadata": {
        "colab": {
          "base_uri": "https://localhost:8080/",
          "height": 206
        },
        "id": "nJgJoPQ29ZmK",
        "outputId": "7eb91c57-374d-446d-d66c-b05eac9a70c4"
      },
      "source": [
        "#Loading data \n",
        "Loan = pd.read_csv(\"/content/TVS.csv\")\n",
        "Loan.head()"
      ],
      "execution_count": null,
      "outputs": [
        {
          "output_type": "execute_result",
          "data": {
            "text/html": [
              "<div>\n",
              "<style scoped>\n",
              "    .dataframe tbody tr th:only-of-type {\n",
              "        vertical-align: middle;\n",
              "    }\n",
              "\n",
              "    .dataframe tbody tr th {\n",
              "        vertical-align: top;\n",
              "    }\n",
              "\n",
              "    .dataframe thead th {\n",
              "        text-align: right;\n",
              "    }\n",
              "</style>\n",
              "<table border=\"1\" class=\"dataframe\">\n",
              "  <thead>\n",
              "    <tr style=\"text-align: right;\">\n",
              "      <th></th>\n",
              "      <th>V1</th>\n",
              "      <th>V2</th>\n",
              "      <th>V3</th>\n",
              "      <th>V4</th>\n",
              "      <th>V5</th>\n",
              "      <th>V6</th>\n",
              "      <th>V7</th>\n",
              "      <th>V8</th>\n",
              "      <th>V9</th>\n",
              "      <th>V10</th>\n",
              "      <th>V11</th>\n",
              "      <th>V12</th>\n",
              "      <th>V13</th>\n",
              "      <th>V14</th>\n",
              "      <th>V15</th>\n",
              "      <th>V16</th>\n",
              "      <th>V17</th>\n",
              "      <th>V18</th>\n",
              "      <th>V19</th>\n",
              "      <th>V20</th>\n",
              "      <th>V21</th>\n",
              "      <th>V22</th>\n",
              "      <th>V23</th>\n",
              "      <th>V24</th>\n",
              "      <th>V25</th>\n",
              "      <th>V26</th>\n",
              "      <th>V27</th>\n",
              "      <th>V28</th>\n",
              "      <th>V29</th>\n",
              "      <th>V30</th>\n",
              "      <th>V31</th>\n",
              "      <th>V32</th>\n",
              "    </tr>\n",
              "  </thead>\n",
              "  <tbody>\n",
              "    <tr>\n",
              "      <th>0</th>\n",
              "      <td>1</td>\n",
              "      <td>0</td>\n",
              "      <td>0</td>\n",
              "      <td>24.0</td>\n",
              "      <td>0.0</td>\n",
              "      <td>2432.0</td>\n",
              "      <td>46500.0</td>\n",
              "      <td>24.0</td>\n",
              "      <td>1385.0</td>\n",
              "      <td>SC</td>\n",
              "      <td>0.0</td>\n",
              "      <td>12.75</td>\n",
              "      <td>FEMALE</td>\n",
              "      <td>HOUSEWIFE</td>\n",
              "      <td>OWNED</td>\n",
              "      <td>30-05-1974</td>\n",
              "      <td>40.0</td>\n",
              "      <td>1</td>\n",
              "      <td>1</td>\n",
              "      <td>0</td>\n",
              "      <td>NaN</td>\n",
              "      <td>0</td>\n",
              "      <td>NaN</td>\n",
              "      <td>NaN</td>\n",
              "      <td>46500.0</td>\n",
              "      <td>NaN</td>\n",
              "      <td>NaN</td>\n",
              "      <td>0</td>\n",
              "      <td>0</td>\n",
              "      <td>0</td>\n",
              "      <td>TIER 1</td>\n",
              "      <td>0</td>\n",
              "    </tr>\n",
              "    <tr>\n",
              "      <th>1</th>\n",
              "      <td>2</td>\n",
              "      <td>0</td>\n",
              "      <td>1</td>\n",
              "      <td>24.0</td>\n",
              "      <td>1.0</td>\n",
              "      <td>1495.0</td>\n",
              "      <td>28168.0</td>\n",
              "      <td>24.0</td>\n",
              "      <td>2496.0</td>\n",
              "      <td>MO</td>\n",
              "      <td>0.0</td>\n",
              "      <td>13.65</td>\n",
              "      <td>MALE</td>\n",
              "      <td>SELF</td>\n",
              "      <td>RENT</td>\n",
              "      <td>01-09-1967</td>\n",
              "      <td>47.0</td>\n",
              "      <td>1</td>\n",
              "      <td>1</td>\n",
              "      <td>0</td>\n",
              "      <td>NaN</td>\n",
              "      <td>0</td>\n",
              "      <td>NaN</td>\n",
              "      <td>NaN</td>\n",
              "      <td>28168.0</td>\n",
              "      <td>NaN</td>\n",
              "      <td>NaN</td>\n",
              "      <td>0</td>\n",
              "      <td>0</td>\n",
              "      <td>0</td>\n",
              "      <td>TIER 1</td>\n",
              "      <td>0</td>\n",
              "    </tr>\n",
              "    <tr>\n",
              "      <th>2</th>\n",
              "      <td>3</td>\n",
              "      <td>0</td>\n",
              "      <td>0</td>\n",
              "      <td>26.0</td>\n",
              "      <td>0.0</td>\n",
              "      <td>1707.0</td>\n",
              "      <td>38900.0</td>\n",
              "      <td>30.0</td>\n",
              "      <td>1346.0</td>\n",
              "      <td>SC</td>\n",
              "      <td>0.0</td>\n",
              "      <td>12.65</td>\n",
              "      <td>MALE</td>\n",
              "      <td>SELF</td>\n",
              "      <td>RENT</td>\n",
              "      <td>04-05-1983</td>\n",
              "      <td>31.0</td>\n",
              "      <td>9</td>\n",
              "      <td>6</td>\n",
              "      <td>3</td>\n",
              "      <td>55000.0</td>\n",
              "      <td>0</td>\n",
              "      <td>NaN</td>\n",
              "      <td>105000.0</td>\n",
              "      <td>38900.0</td>\n",
              "      <td>34.0</td>\n",
              "      <td>31.0</td>\n",
              "      <td>31</td>\n",
              "      <td>31</td>\n",
              "      <td>16</td>\n",
              "      <td>TIER 1</td>\n",
              "      <td>0</td>\n",
              "    </tr>\n",
              "    <tr>\n",
              "      <th>3</th>\n",
              "      <td>4</td>\n",
              "      <td>0</td>\n",
              "      <td>0</td>\n",
              "      <td>24.0</td>\n",
              "      <td>0.0</td>\n",
              "      <td>2128.0</td>\n",
              "      <td>42900.0</td>\n",
              "      <td>24.0</td>\n",
              "      <td>1375.0</td>\n",
              "      <td>SC</td>\n",
              "      <td>2.0</td>\n",
              "      <td>9.50</td>\n",
              "      <td>FEMALE</td>\n",
              "      <td>SAL</td>\n",
              "      <td>RENT</td>\n",
              "      <td>10-12-1989</td>\n",
              "      <td>24.0</td>\n",
              "      <td>1</td>\n",
              "      <td>1</td>\n",
              "      <td>0</td>\n",
              "      <td>NaN</td>\n",
              "      <td>0</td>\n",
              "      <td>NaN</td>\n",
              "      <td>NaN</td>\n",
              "      <td>42900.0</td>\n",
              "      <td>NaN</td>\n",
              "      <td>NaN</td>\n",
              "      <td>0</td>\n",
              "      <td>0</td>\n",
              "      <td>0</td>\n",
              "      <td>TIER 1</td>\n",
              "      <td>0</td>\n",
              "    </tr>\n",
              "    <tr>\n",
              "      <th>4</th>\n",
              "      <td>5</td>\n",
              "      <td>0</td>\n",
              "      <td>0</td>\n",
              "      <td>27.0</td>\n",
              "      <td>0.0</td>\n",
              "      <td>1824.0</td>\n",
              "      <td>40900.0</td>\n",
              "      <td>30.0</td>\n",
              "      <td>4140.0</td>\n",
              "      <td>MC</td>\n",
              "      <td>0.0</td>\n",
              "      <td>13.50</td>\n",
              "      <td>MALE</td>\n",
              "      <td>SAL</td>\n",
              "      <td>RENT</td>\n",
              "      <td>24-09-1984</td>\n",
              "      <td>30.0</td>\n",
              "      <td>1</td>\n",
              "      <td>1</td>\n",
              "      <td>0</td>\n",
              "      <td>NaN</td>\n",
              "      <td>0</td>\n",
              "      <td>NaN</td>\n",
              "      <td>NaN</td>\n",
              "      <td>40900.0</td>\n",
              "      <td>NaN</td>\n",
              "      <td>NaN</td>\n",
              "      <td>0</td>\n",
              "      <td>0</td>\n",
              "      <td>0</td>\n",
              "      <td>TIER 1</td>\n",
              "      <td>0</td>\n",
              "    </tr>\n",
              "  </tbody>\n",
              "</table>\n",
              "</div>"
            ],
            "text/plain": [
              "   V1  V2  V3    V4   V5      V6  ...   V27  V28  V29 V30     V31  V32\n",
              "0   1   0   0  24.0  0.0  2432.0  ...   NaN    0    0   0  TIER 1    0\n",
              "1   2   0   1  24.0  1.0  1495.0  ...   NaN    0    0   0  TIER 1    0\n",
              "2   3   0   0  26.0  0.0  1707.0  ...  31.0   31   31  16  TIER 1    0\n",
              "3   4   0   0  24.0  0.0  2128.0  ...   NaN    0    0   0  TIER 1    0\n",
              "4   5   0   0  27.0  0.0  1824.0  ...   NaN    0    0   0  TIER 1    0\n",
              "\n",
              "[5 rows x 32 columns]"
            ]
          },
          "metadata": {},
          "execution_count": 318
        }
      ]
    },
    {
      "cell_type": "code",
      "metadata": {
        "colab": {
          "base_uri": "https://localhost:8080/",
          "height": 538
        },
        "id": "Tz4pKgOhfjXm",
        "outputId": "235a4555-cbd6-4eb3-84f9-ad196aab4d47"
      },
      "source": [
        "#Renaming columns in the dataset with their correct names\n",
        "Loan_renamed = Loan.rename(columns={'V1': 'Customer ID',\n",
        "'V2': 'Customer has bounced in first EMI', \n",
        "'V3': 'No of times bounced 12 months',\n",
        "'V4': 'Maximum MOB',\n",
        "'V5': 'No of times bounced while repaying the loan',\n",
        "'V6': 'EMI',\n",
        "'V7': 'Loan Amount',\n",
        "'V8': 'Tenure',\n",
        "'V9': 'Dealer codes from where customer has purchased the Two wheeler',\n",
        "'V10': 'Product code of Two wheeler', \n",
        "'V11': 'No of advance EMI paid',\n",
        "'V12': 'Rate of interest',\n",
        "'V13': 'Gender',\n",
        "'V14': 'Employment type',\n",
        "'V15': 'Resident type of customer',\n",
        "'V16': 'Date of birth',\n",
        "'V17': 'Customer age when loanwas taken',\n",
        "'V18': 'No of loans',\n",
        "'V19': 'No of secured loans',\n",
        "'V20': 'No of unsecured loans',\n",
        "'V21': 'Max amount sanctioned in the Live loans',\n",
        "'V22': 'No of new loans in last 3 months',\n",
        "'V23': 'Total sanctioned amount in the secured Loans which are Live',\n",
        "'V24': 'Total sanctioned amount in the unsecured Loans which are Live',\n",
        "'V25': 'Maximum amount sanctioned for any Two wheeler loan',\n",
        "'V26': 'Time since last Personal loan taken (in months)',\n",
        "'V27': 'Time since first consumer durables loan taken (in months)',\n",
        "'V28': 'No of times 30 days past due in last 6 months',\n",
        "'V29': 'No of times 60 days past due in last 6 months',\n",
        "'V30': 'No of times 90 days past due in last 3 months',\n",
        "'V31': 'Tier',\n",
        "'V32': 'Target variable'})\n",
        "Loan_renamed.head()"
      ],
      "execution_count": null,
      "outputs": [
        {
          "output_type": "execute_result",
          "data": {
            "text/html": [
              "<div>\n",
              "<style scoped>\n",
              "    .dataframe tbody tr th:only-of-type {\n",
              "        vertical-align: middle;\n",
              "    }\n",
              "\n",
              "    .dataframe tbody tr th {\n",
              "        vertical-align: top;\n",
              "    }\n",
              "\n",
              "    .dataframe thead th {\n",
              "        text-align: right;\n",
              "    }\n",
              "</style>\n",
              "<table border=\"1\" class=\"dataframe\">\n",
              "  <thead>\n",
              "    <tr style=\"text-align: right;\">\n",
              "      <th></th>\n",
              "      <th>Customer ID</th>\n",
              "      <th>Customer has bounced in first EMI</th>\n",
              "      <th>No of times bounced 12 months</th>\n",
              "      <th>Maximum MOB</th>\n",
              "      <th>No of times bounced while repaying the loan</th>\n",
              "      <th>EMI</th>\n",
              "      <th>Loan Amount</th>\n",
              "      <th>Tenure</th>\n",
              "      <th>Dealer codes from where customer has purchased the Two wheeler</th>\n",
              "      <th>Product code of Two wheeler</th>\n",
              "      <th>No of advance EMI paid</th>\n",
              "      <th>Rate of interest</th>\n",
              "      <th>Gender</th>\n",
              "      <th>Employment type</th>\n",
              "      <th>Resident type of customer</th>\n",
              "      <th>Date of birth</th>\n",
              "      <th>Customer age when loanwas taken</th>\n",
              "      <th>No of loans</th>\n",
              "      <th>No of secured loans</th>\n",
              "      <th>No of unsecured loans</th>\n",
              "      <th>Max amount sanctioned in the Live loans</th>\n",
              "      <th>No of new loans in last 3 months</th>\n",
              "      <th>Total sanctioned amount in the secured Loans which are Live</th>\n",
              "      <th>Total sanctioned amount in the unsecured Loans which are Live</th>\n",
              "      <th>Maximum amount sanctioned for any Two wheeler loan</th>\n",
              "      <th>Time since last Personal loan taken (in months)</th>\n",
              "      <th>Time since first consumer durables loan taken (in months)</th>\n",
              "      <th>No of times 30 days past due in last 6 months</th>\n",
              "      <th>No of times 60 days past due in last 6 months</th>\n",
              "      <th>No of times 90 days past due in last 3 months</th>\n",
              "      <th>Tier</th>\n",
              "      <th>Target variable</th>\n",
              "    </tr>\n",
              "  </thead>\n",
              "  <tbody>\n",
              "    <tr>\n",
              "      <th>0</th>\n",
              "      <td>1</td>\n",
              "      <td>0</td>\n",
              "      <td>0</td>\n",
              "      <td>24.0</td>\n",
              "      <td>0.0</td>\n",
              "      <td>2432.0</td>\n",
              "      <td>46500.0</td>\n",
              "      <td>24.0</td>\n",
              "      <td>1385.0</td>\n",
              "      <td>SC</td>\n",
              "      <td>0.0</td>\n",
              "      <td>12.75</td>\n",
              "      <td>FEMALE</td>\n",
              "      <td>HOUSEWIFE</td>\n",
              "      <td>OWNED</td>\n",
              "      <td>30-05-1974</td>\n",
              "      <td>40.0</td>\n",
              "      <td>1</td>\n",
              "      <td>1</td>\n",
              "      <td>0</td>\n",
              "      <td>NaN</td>\n",
              "      <td>0</td>\n",
              "      <td>NaN</td>\n",
              "      <td>NaN</td>\n",
              "      <td>46500.0</td>\n",
              "      <td>NaN</td>\n",
              "      <td>NaN</td>\n",
              "      <td>0</td>\n",
              "      <td>0</td>\n",
              "      <td>0</td>\n",
              "      <td>TIER 1</td>\n",
              "      <td>0</td>\n",
              "    </tr>\n",
              "    <tr>\n",
              "      <th>1</th>\n",
              "      <td>2</td>\n",
              "      <td>0</td>\n",
              "      <td>1</td>\n",
              "      <td>24.0</td>\n",
              "      <td>1.0</td>\n",
              "      <td>1495.0</td>\n",
              "      <td>28168.0</td>\n",
              "      <td>24.0</td>\n",
              "      <td>2496.0</td>\n",
              "      <td>MO</td>\n",
              "      <td>0.0</td>\n",
              "      <td>13.65</td>\n",
              "      <td>MALE</td>\n",
              "      <td>SELF</td>\n",
              "      <td>RENT</td>\n",
              "      <td>01-09-1967</td>\n",
              "      <td>47.0</td>\n",
              "      <td>1</td>\n",
              "      <td>1</td>\n",
              "      <td>0</td>\n",
              "      <td>NaN</td>\n",
              "      <td>0</td>\n",
              "      <td>NaN</td>\n",
              "      <td>NaN</td>\n",
              "      <td>28168.0</td>\n",
              "      <td>NaN</td>\n",
              "      <td>NaN</td>\n",
              "      <td>0</td>\n",
              "      <td>0</td>\n",
              "      <td>0</td>\n",
              "      <td>TIER 1</td>\n",
              "      <td>0</td>\n",
              "    </tr>\n",
              "    <tr>\n",
              "      <th>2</th>\n",
              "      <td>3</td>\n",
              "      <td>0</td>\n",
              "      <td>0</td>\n",
              "      <td>26.0</td>\n",
              "      <td>0.0</td>\n",
              "      <td>1707.0</td>\n",
              "      <td>38900.0</td>\n",
              "      <td>30.0</td>\n",
              "      <td>1346.0</td>\n",
              "      <td>SC</td>\n",
              "      <td>0.0</td>\n",
              "      <td>12.65</td>\n",
              "      <td>MALE</td>\n",
              "      <td>SELF</td>\n",
              "      <td>RENT</td>\n",
              "      <td>04-05-1983</td>\n",
              "      <td>31.0</td>\n",
              "      <td>9</td>\n",
              "      <td>6</td>\n",
              "      <td>3</td>\n",
              "      <td>55000.0</td>\n",
              "      <td>0</td>\n",
              "      <td>NaN</td>\n",
              "      <td>105000.0</td>\n",
              "      <td>38900.0</td>\n",
              "      <td>34.0</td>\n",
              "      <td>31.0</td>\n",
              "      <td>31</td>\n",
              "      <td>31</td>\n",
              "      <td>16</td>\n",
              "      <td>TIER 1</td>\n",
              "      <td>0</td>\n",
              "    </tr>\n",
              "    <tr>\n",
              "      <th>3</th>\n",
              "      <td>4</td>\n",
              "      <td>0</td>\n",
              "      <td>0</td>\n",
              "      <td>24.0</td>\n",
              "      <td>0.0</td>\n",
              "      <td>2128.0</td>\n",
              "      <td>42900.0</td>\n",
              "      <td>24.0</td>\n",
              "      <td>1375.0</td>\n",
              "      <td>SC</td>\n",
              "      <td>2.0</td>\n",
              "      <td>9.50</td>\n",
              "      <td>FEMALE</td>\n",
              "      <td>SAL</td>\n",
              "      <td>RENT</td>\n",
              "      <td>10-12-1989</td>\n",
              "      <td>24.0</td>\n",
              "      <td>1</td>\n",
              "      <td>1</td>\n",
              "      <td>0</td>\n",
              "      <td>NaN</td>\n",
              "      <td>0</td>\n",
              "      <td>NaN</td>\n",
              "      <td>NaN</td>\n",
              "      <td>42900.0</td>\n",
              "      <td>NaN</td>\n",
              "      <td>NaN</td>\n",
              "      <td>0</td>\n",
              "      <td>0</td>\n",
              "      <td>0</td>\n",
              "      <td>TIER 1</td>\n",
              "      <td>0</td>\n",
              "    </tr>\n",
              "    <tr>\n",
              "      <th>4</th>\n",
              "      <td>5</td>\n",
              "      <td>0</td>\n",
              "      <td>0</td>\n",
              "      <td>27.0</td>\n",
              "      <td>0.0</td>\n",
              "      <td>1824.0</td>\n",
              "      <td>40900.0</td>\n",
              "      <td>30.0</td>\n",
              "      <td>4140.0</td>\n",
              "      <td>MC</td>\n",
              "      <td>0.0</td>\n",
              "      <td>13.50</td>\n",
              "      <td>MALE</td>\n",
              "      <td>SAL</td>\n",
              "      <td>RENT</td>\n",
              "      <td>24-09-1984</td>\n",
              "      <td>30.0</td>\n",
              "      <td>1</td>\n",
              "      <td>1</td>\n",
              "      <td>0</td>\n",
              "      <td>NaN</td>\n",
              "      <td>0</td>\n",
              "      <td>NaN</td>\n",
              "      <td>NaN</td>\n",
              "      <td>40900.0</td>\n",
              "      <td>NaN</td>\n",
              "      <td>NaN</td>\n",
              "      <td>0</td>\n",
              "      <td>0</td>\n",
              "      <td>0</td>\n",
              "      <td>TIER 1</td>\n",
              "      <td>0</td>\n",
              "    </tr>\n",
              "  </tbody>\n",
              "</table>\n",
              "</div>"
            ],
            "text/plain": [
              "   Customer ID  Customer has bounced in first EMI  ...    Tier  Target variable\n",
              "0            1                                  0  ...  TIER 1                0\n",
              "1            2                                  0  ...  TIER 1                0\n",
              "2            3                                  0  ...  TIER 1                0\n",
              "3            4                                  0  ...  TIER 1                0\n",
              "4            5                                  0  ...  TIER 1                0\n",
              "\n",
              "[5 rows x 32 columns]"
            ]
          },
          "metadata": {},
          "execution_count": 319
        }
      ]
    },
    {
      "cell_type": "markdown",
      "metadata": {
        "id": "2CcO8sxvf3FW"
      },
      "source": [
        "### First level Data exploration"
      ]
    },
    {
      "cell_type": "code",
      "metadata": {
        "colab": {
          "base_uri": "https://localhost:8080/",
          "height": 538
        },
        "id": "FEIk7yFGqamC",
        "outputId": "d6568897-b4a9-4fc7-9591-b0191f8c37d6"
      },
      "source": [
        "#Renaming columns in the dataset with their correct names\n",
        "Loan_renamed = Loan.rename(columns={'V1': 'Customer ID',\n",
        "'V2': 'Customer has bounced in first EMI', \n",
        "'V3': 'No of times bounced 12 months',\n",
        "'V4': 'Maximum MOB',\n",
        "'V5': 'No of times bounced while repaying the loan',\n",
        "'V6': 'EMI',\n",
        "'V7': 'Loan Amount',\n",
        "'V8': 'Tenure',\n",
        "'V9': 'Dealer codes from where customer has purchased the Two wheeler',\n",
        "'V10': 'Product code of Two wheeler', \n",
        "'V11': 'No of advance EMI paid',\n",
        "'V12': 'Rate of interest',\n",
        "'V13': 'Gender',\n",
        "'V14': 'Employment type',\n",
        "'V15': 'Resident type of customer',\n",
        "'V16': 'Date of birth',\n",
        "'V17': 'Customer age when loanwas taken',\n",
        "'V18': 'No of loans',\n",
        "'V19': 'No of secured loans',\n",
        "'V20': 'No of unsecured loans',\n",
        "'V21': 'Max amount sanctioned in the Live loans',\n",
        "'V22': 'No of new loans in last 3 months',\n",
        "'V23': 'Total sanctioned amount in the secured Loans which are Live',\n",
        "'V24': 'Total sanctioned amount in the unsecured Loans which are Live',\n",
        "'V25': 'Maximum amount sanctioned for any Two wheeler loan',\n",
        "'V26': 'Time since last Personal loan taken (in months)',\n",
        "'V27': 'Time since first consumer durables loan taken (in months)',\n",
        "'V28': 'No of times 30 days past due in last 6 months',\n",
        "'V29': 'No of times 60 days past due in last 6 months',\n",
        "'V30': 'No of times 90 days past due in last 3 months',\n",
        "'V31': 'Tier',\n",
        "'V32': 'Target variable'})\n",
        "Loan_renamed.head()"
      ],
      "execution_count": null,
      "outputs": [
        {
          "output_type": "execute_result",
          "data": {
            "text/html": [
              "<div>\n",
              "<style scoped>\n",
              "    .dataframe tbody tr th:only-of-type {\n",
              "        vertical-align: middle;\n",
              "    }\n",
              "\n",
              "    .dataframe tbody tr th {\n",
              "        vertical-align: top;\n",
              "    }\n",
              "\n",
              "    .dataframe thead th {\n",
              "        text-align: right;\n",
              "    }\n",
              "</style>\n",
              "<table border=\"1\" class=\"dataframe\">\n",
              "  <thead>\n",
              "    <tr style=\"text-align: right;\">\n",
              "      <th></th>\n",
              "      <th>Customer ID</th>\n",
              "      <th>Customer has bounced in first EMI</th>\n",
              "      <th>No of times bounced 12 months</th>\n",
              "      <th>Maximum MOB</th>\n",
              "      <th>No of times bounced while repaying the loan</th>\n",
              "      <th>EMI</th>\n",
              "      <th>Loan Amount</th>\n",
              "      <th>Tenure</th>\n",
              "      <th>Dealer codes from where customer has purchased the Two wheeler</th>\n",
              "      <th>Product code of Two wheeler</th>\n",
              "      <th>No of advance EMI paid</th>\n",
              "      <th>Rate of interest</th>\n",
              "      <th>Gender</th>\n",
              "      <th>Employment type</th>\n",
              "      <th>Resident type of customer</th>\n",
              "      <th>Date of birth</th>\n",
              "      <th>Customer age when loanwas taken</th>\n",
              "      <th>No of loans</th>\n",
              "      <th>No of secured loans</th>\n",
              "      <th>No of unsecured loans</th>\n",
              "      <th>Max amount sanctioned in the Live loans</th>\n",
              "      <th>No of new loans in last 3 months</th>\n",
              "      <th>Total sanctioned amount in the secured Loans which are Live</th>\n",
              "      <th>Total sanctioned amount in the unsecured Loans which are Live</th>\n",
              "      <th>Maximum amount sanctioned for any Two wheeler loan</th>\n",
              "      <th>Time since last Personal loan taken (in months)</th>\n",
              "      <th>Time since first consumer durables loan taken (in months)</th>\n",
              "      <th>No of times 30 days past due in last 6 months</th>\n",
              "      <th>No of times 60 days past due in last 6 months</th>\n",
              "      <th>No of times 90 days past due in last 3 months</th>\n",
              "      <th>Tier</th>\n",
              "      <th>Target variable</th>\n",
              "    </tr>\n",
              "  </thead>\n",
              "  <tbody>\n",
              "    <tr>\n",
              "      <th>0</th>\n",
              "      <td>1</td>\n",
              "      <td>0</td>\n",
              "      <td>0</td>\n",
              "      <td>24.0</td>\n",
              "      <td>0.0</td>\n",
              "      <td>2432.0</td>\n",
              "      <td>46500.0</td>\n",
              "      <td>24.0</td>\n",
              "      <td>1385.0</td>\n",
              "      <td>SC</td>\n",
              "      <td>0.0</td>\n",
              "      <td>12.75</td>\n",
              "      <td>FEMALE</td>\n",
              "      <td>HOUSEWIFE</td>\n",
              "      <td>OWNED</td>\n",
              "      <td>30-05-1974</td>\n",
              "      <td>40.0</td>\n",
              "      <td>1</td>\n",
              "      <td>1</td>\n",
              "      <td>0</td>\n",
              "      <td>NaN</td>\n",
              "      <td>0</td>\n",
              "      <td>NaN</td>\n",
              "      <td>NaN</td>\n",
              "      <td>46500.0</td>\n",
              "      <td>NaN</td>\n",
              "      <td>NaN</td>\n",
              "      <td>0</td>\n",
              "      <td>0</td>\n",
              "      <td>0</td>\n",
              "      <td>TIER 1</td>\n",
              "      <td>0</td>\n",
              "    </tr>\n",
              "    <tr>\n",
              "      <th>1</th>\n",
              "      <td>2</td>\n",
              "      <td>0</td>\n",
              "      <td>1</td>\n",
              "      <td>24.0</td>\n",
              "      <td>1.0</td>\n",
              "      <td>1495.0</td>\n",
              "      <td>28168.0</td>\n",
              "      <td>24.0</td>\n",
              "      <td>2496.0</td>\n",
              "      <td>MO</td>\n",
              "      <td>0.0</td>\n",
              "      <td>13.65</td>\n",
              "      <td>MALE</td>\n",
              "      <td>SELF</td>\n",
              "      <td>RENT</td>\n",
              "      <td>01-09-1967</td>\n",
              "      <td>47.0</td>\n",
              "      <td>1</td>\n",
              "      <td>1</td>\n",
              "      <td>0</td>\n",
              "      <td>NaN</td>\n",
              "      <td>0</td>\n",
              "      <td>NaN</td>\n",
              "      <td>NaN</td>\n",
              "      <td>28168.0</td>\n",
              "      <td>NaN</td>\n",
              "      <td>NaN</td>\n",
              "      <td>0</td>\n",
              "      <td>0</td>\n",
              "      <td>0</td>\n",
              "      <td>TIER 1</td>\n",
              "      <td>0</td>\n",
              "    </tr>\n",
              "    <tr>\n",
              "      <th>2</th>\n",
              "      <td>3</td>\n",
              "      <td>0</td>\n",
              "      <td>0</td>\n",
              "      <td>26.0</td>\n",
              "      <td>0.0</td>\n",
              "      <td>1707.0</td>\n",
              "      <td>38900.0</td>\n",
              "      <td>30.0</td>\n",
              "      <td>1346.0</td>\n",
              "      <td>SC</td>\n",
              "      <td>0.0</td>\n",
              "      <td>12.65</td>\n",
              "      <td>MALE</td>\n",
              "      <td>SELF</td>\n",
              "      <td>RENT</td>\n",
              "      <td>04-05-1983</td>\n",
              "      <td>31.0</td>\n",
              "      <td>9</td>\n",
              "      <td>6</td>\n",
              "      <td>3</td>\n",
              "      <td>55000.0</td>\n",
              "      <td>0</td>\n",
              "      <td>NaN</td>\n",
              "      <td>105000.0</td>\n",
              "      <td>38900.0</td>\n",
              "      <td>34.0</td>\n",
              "      <td>31.0</td>\n",
              "      <td>31</td>\n",
              "      <td>31</td>\n",
              "      <td>16</td>\n",
              "      <td>TIER 1</td>\n",
              "      <td>0</td>\n",
              "    </tr>\n",
              "    <tr>\n",
              "      <th>3</th>\n",
              "      <td>4</td>\n",
              "      <td>0</td>\n",
              "      <td>0</td>\n",
              "      <td>24.0</td>\n",
              "      <td>0.0</td>\n",
              "      <td>2128.0</td>\n",
              "      <td>42900.0</td>\n",
              "      <td>24.0</td>\n",
              "      <td>1375.0</td>\n",
              "      <td>SC</td>\n",
              "      <td>2.0</td>\n",
              "      <td>9.50</td>\n",
              "      <td>FEMALE</td>\n",
              "      <td>SAL</td>\n",
              "      <td>RENT</td>\n",
              "      <td>10-12-1989</td>\n",
              "      <td>24.0</td>\n",
              "      <td>1</td>\n",
              "      <td>1</td>\n",
              "      <td>0</td>\n",
              "      <td>NaN</td>\n",
              "      <td>0</td>\n",
              "      <td>NaN</td>\n",
              "      <td>NaN</td>\n",
              "      <td>42900.0</td>\n",
              "      <td>NaN</td>\n",
              "      <td>NaN</td>\n",
              "      <td>0</td>\n",
              "      <td>0</td>\n",
              "      <td>0</td>\n",
              "      <td>TIER 1</td>\n",
              "      <td>0</td>\n",
              "    </tr>\n",
              "    <tr>\n",
              "      <th>4</th>\n",
              "      <td>5</td>\n",
              "      <td>0</td>\n",
              "      <td>0</td>\n",
              "      <td>27.0</td>\n",
              "      <td>0.0</td>\n",
              "      <td>1824.0</td>\n",
              "      <td>40900.0</td>\n",
              "      <td>30.0</td>\n",
              "      <td>4140.0</td>\n",
              "      <td>MC</td>\n",
              "      <td>0.0</td>\n",
              "      <td>13.50</td>\n",
              "      <td>MALE</td>\n",
              "      <td>SAL</td>\n",
              "      <td>RENT</td>\n",
              "      <td>24-09-1984</td>\n",
              "      <td>30.0</td>\n",
              "      <td>1</td>\n",
              "      <td>1</td>\n",
              "      <td>0</td>\n",
              "      <td>NaN</td>\n",
              "      <td>0</td>\n",
              "      <td>NaN</td>\n",
              "      <td>NaN</td>\n",
              "      <td>40900.0</td>\n",
              "      <td>NaN</td>\n",
              "      <td>NaN</td>\n",
              "      <td>0</td>\n",
              "      <td>0</td>\n",
              "      <td>0</td>\n",
              "      <td>TIER 1</td>\n",
              "      <td>0</td>\n",
              "    </tr>\n",
              "  </tbody>\n",
              "</table>\n",
              "</div>"
            ],
            "text/plain": [
              "   Customer ID  Customer has bounced in first EMI  ...    Tier  Target variable\n",
              "0            1                                  0  ...  TIER 1                0\n",
              "1            2                                  0  ...  TIER 1                0\n",
              "2            3                                  0  ...  TIER 1                0\n",
              "3            4                                  0  ...  TIER 1                0\n",
              "4            5                                  0  ...  TIER 1                0\n",
              "\n",
              "[5 rows x 32 columns]"
            ]
          },
          "metadata": {},
          "execution_count": 320
        }
      ]
    },
    {
      "cell_type": "code",
      "metadata": {
        "id": "Nml1MeRYq6tn"
      },
      "source": [],
      "execution_count": null,
      "outputs": []
    },
    {
      "cell_type": "code",
      "metadata": {
        "id": "TlCT6Il1rHHL"
      },
      "source": [],
      "execution_count": null,
      "outputs": []
    },
    {
      "cell_type": "code",
      "metadata": {
        "colab": {
          "base_uri": "https://localhost:8080/"
        },
        "id": "ZAw5NrWWirhy",
        "outputId": "3115da21-9161-4dde-aeaa-c58657677ffb"
      },
      "source": [
        "Loan_renamed.info()"
      ],
      "execution_count": null,
      "outputs": [
        {
          "output_type": "stream",
          "name": "stdout",
          "text": [
            "<class 'pandas.core.frame.DataFrame'>\n",
            "RangeIndex: 119528 entries, 0 to 119527\n",
            "Data columns (total 32 columns):\n",
            " #   Column                                                          Non-Null Count   Dtype  \n",
            "---  ------                                                          --------------   -----  \n",
            " 0   Customer ID                                                     119528 non-null  int64  \n",
            " 1   Customer has bounced in first EMI                               119528 non-null  int64  \n",
            " 2   No of times bounced 12 months                                   119528 non-null  int64  \n",
            " 3   Maximum MOB                                                     85048 non-null   float64\n",
            " 4   No of times bounced while repaying the loan                     85048 non-null   float64\n",
            " 5   EMI                                                             85048 non-null   float64\n",
            " 6   Loan Amount                                                     85048 non-null   float64\n",
            " 7   Tenure                                                          85048 non-null   float64\n",
            " 8   Dealer codes from where customer has purchased the Two wheeler  85048 non-null   float64\n",
            " 9   Product code of Two wheeler                                     85048 non-null   object \n",
            " 10  No of advance EMI paid                                          85048 non-null   float64\n",
            " 11  Rate of interest                                                85048 non-null   float64\n",
            " 12  Gender                                                          85048 non-null   object \n",
            " 13  Employment type                                                 85048 non-null   object \n",
            " 14  Resident type of customer                                       84131 non-null   object \n",
            " 15  Date of birth                                                   85048 non-null   object \n",
            " 16  Customer age when loanwas taken                                 85048 non-null   float64\n",
            " 17  No of loans                                                     119528 non-null  int64  \n",
            " 18  No of secured loans                                             119528 non-null  int64  \n",
            " 19  No of unsecured loans                                           119528 non-null  int64  \n",
            " 20  Max amount sanctioned in the Live loans                         36626 non-null   float64\n",
            " 21  No of new loans in last 3 months                                119528 non-null  int64  \n",
            " 22  Total sanctioned amount in the secured Loans which are Live     19281 non-null   float64\n",
            " 23  Total sanctioned amount in the unsecured Loans which are Live   19028 non-null   float64\n",
            " 24  Maximum amount sanctioned for any Two wheeler loan              104467 non-null  float64\n",
            " 25  Time since last Personal loan taken (in months)                 13431 non-null   float64\n",
            " 26  Time since first consumer durables loan taken (in months)       20433 non-null   float64\n",
            " 27  No of times 30 days past due in last 6 months                   119528 non-null  int64  \n",
            " 28  No of times 60 days past due in last 6 months                   119528 non-null  int64  \n",
            " 29  No of times 90 days past due in last 3 months                   119528 non-null  int64  \n",
            " 30  Tier                                                            119528 non-null  object \n",
            " 31  Target variable                                                 119528 non-null  int64  \n",
            "dtypes: float64(15), int64(11), object(6)\n",
            "memory usage: 29.2+ MB\n"
          ]
        }
      ]
    },
    {
      "cell_type": "code",
      "metadata": {
        "colab": {
          "base_uri": "https://localhost:8080/"
        },
        "id": "PudwsruhO8Ak",
        "outputId": "de869793-2153-4672-f9e6-1955470958bf"
      },
      "source": [
        "Loan_renamed.Tier.unique()"
      ],
      "execution_count": null,
      "outputs": [
        {
          "output_type": "execute_result",
          "data": {
            "text/plain": [
              "array(['TIER 1', 'TIER 4', 'TIER 3', 'TIER 2'], dtype=object)"
            ]
          },
          "metadata": {},
          "execution_count": 322
        }
      ]
    },
    {
      "cell_type": "markdown",
      "metadata": {
        "id": "t4Ac1BYOf3FY"
      },
      "source": [
        "As illustrated there are quite a number of features with missing values, we will speak to this in the subsequent sections"
      ]
    },
    {
      "cell_type": "code",
      "metadata": {
        "colab": {
          "base_uri": "https://localhost:8080/",
          "height": 452
        },
        "id": "srPAWv4Fi75o",
        "outputId": "501be106-e762-4032-a653-03c743a572a1"
      },
      "source": [
        "Loan_renamed.tail(5)"
      ],
      "execution_count": null,
      "outputs": [
        {
          "output_type": "execute_result",
          "data": {
            "text/html": [
              "<div>\n",
              "<style scoped>\n",
              "    .dataframe tbody tr th:only-of-type {\n",
              "        vertical-align: middle;\n",
              "    }\n",
              "\n",
              "    .dataframe tbody tr th {\n",
              "        vertical-align: top;\n",
              "    }\n",
              "\n",
              "    .dataframe thead th {\n",
              "        text-align: right;\n",
              "    }\n",
              "</style>\n",
              "<table border=\"1\" class=\"dataframe\">\n",
              "  <thead>\n",
              "    <tr style=\"text-align: right;\">\n",
              "      <th></th>\n",
              "      <th>Customer ID</th>\n",
              "      <th>Customer has bounced in first EMI</th>\n",
              "      <th>No of times bounced 12 months</th>\n",
              "      <th>Maximum MOB</th>\n",
              "      <th>No of times bounced while repaying the loan</th>\n",
              "      <th>EMI</th>\n",
              "      <th>Loan Amount</th>\n",
              "      <th>Tenure</th>\n",
              "      <th>Dealer codes from where customer has purchased the Two wheeler</th>\n",
              "      <th>Product code of Two wheeler</th>\n",
              "      <th>No of advance EMI paid</th>\n",
              "      <th>Rate of interest</th>\n",
              "      <th>Gender</th>\n",
              "      <th>Employment type</th>\n",
              "      <th>Resident type of customer</th>\n",
              "      <th>Date of birth</th>\n",
              "      <th>Customer age when loanwas taken</th>\n",
              "      <th>No of loans</th>\n",
              "      <th>No of secured loans</th>\n",
              "      <th>No of unsecured loans</th>\n",
              "      <th>Max amount sanctioned in the Live loans</th>\n",
              "      <th>No of new loans in last 3 months</th>\n",
              "      <th>Total sanctioned amount in the secured Loans which are Live</th>\n",
              "      <th>Total sanctioned amount in the unsecured Loans which are Live</th>\n",
              "      <th>Maximum amount sanctioned for any Two wheeler loan</th>\n",
              "      <th>Time since last Personal loan taken (in months)</th>\n",
              "      <th>Time since first consumer durables loan taken (in months)</th>\n",
              "      <th>No of times 30 days past due in last 6 months</th>\n",
              "      <th>No of times 60 days past due in last 6 months</th>\n",
              "      <th>No of times 90 days past due in last 3 months</th>\n",
              "      <th>Tier</th>\n",
              "      <th>Target variable</th>\n",
              "    </tr>\n",
              "  </thead>\n",
              "  <tbody>\n",
              "    <tr>\n",
              "      <th>119523</th>\n",
              "      <td>119524</td>\n",
              "      <td>0</td>\n",
              "      <td>1</td>\n",
              "      <td>NaN</td>\n",
              "      <td>NaN</td>\n",
              "      <td>NaN</td>\n",
              "      <td>NaN</td>\n",
              "      <td>NaN</td>\n",
              "      <td>NaN</td>\n",
              "      <td>NaN</td>\n",
              "      <td>NaN</td>\n",
              "      <td>NaN</td>\n",
              "      <td>NaN</td>\n",
              "      <td>NaN</td>\n",
              "      <td>NaN</td>\n",
              "      <td>NaN</td>\n",
              "      <td>NaN</td>\n",
              "      <td>0</td>\n",
              "      <td>0</td>\n",
              "      <td>0</td>\n",
              "      <td>NaN</td>\n",
              "      <td>0</td>\n",
              "      <td>NaN</td>\n",
              "      <td>NaN</td>\n",
              "      <td>NaN</td>\n",
              "      <td>NaN</td>\n",
              "      <td>NaN</td>\n",
              "      <td>0</td>\n",
              "      <td>0</td>\n",
              "      <td>0</td>\n",
              "      <td>TIER 3</td>\n",
              "      <td>0</td>\n",
              "    </tr>\n",
              "    <tr>\n",
              "      <th>119524</th>\n",
              "      <td>119525</td>\n",
              "      <td>0</td>\n",
              "      <td>0</td>\n",
              "      <td>NaN</td>\n",
              "      <td>NaN</td>\n",
              "      <td>NaN</td>\n",
              "      <td>NaN</td>\n",
              "      <td>NaN</td>\n",
              "      <td>NaN</td>\n",
              "      <td>NaN</td>\n",
              "      <td>NaN</td>\n",
              "      <td>NaN</td>\n",
              "      <td>NaN</td>\n",
              "      <td>NaN</td>\n",
              "      <td>NaN</td>\n",
              "      <td>NaN</td>\n",
              "      <td>NaN</td>\n",
              "      <td>1</td>\n",
              "      <td>1</td>\n",
              "      <td>0</td>\n",
              "      <td>NaN</td>\n",
              "      <td>0</td>\n",
              "      <td>NaN</td>\n",
              "      <td>NaN</td>\n",
              "      <td>33000.0</td>\n",
              "      <td>NaN</td>\n",
              "      <td>NaN</td>\n",
              "      <td>3</td>\n",
              "      <td>1</td>\n",
              "      <td>0</td>\n",
              "      <td>TIER 3</td>\n",
              "      <td>1</td>\n",
              "    </tr>\n",
              "    <tr>\n",
              "      <th>119525</th>\n",
              "      <td>119526</td>\n",
              "      <td>0</td>\n",
              "      <td>0</td>\n",
              "      <td>NaN</td>\n",
              "      <td>NaN</td>\n",
              "      <td>NaN</td>\n",
              "      <td>NaN</td>\n",
              "      <td>NaN</td>\n",
              "      <td>NaN</td>\n",
              "      <td>NaN</td>\n",
              "      <td>NaN</td>\n",
              "      <td>NaN</td>\n",
              "      <td>NaN</td>\n",
              "      <td>NaN</td>\n",
              "      <td>NaN</td>\n",
              "      <td>NaN</td>\n",
              "      <td>NaN</td>\n",
              "      <td>0</td>\n",
              "      <td>0</td>\n",
              "      <td>0</td>\n",
              "      <td>NaN</td>\n",
              "      <td>0</td>\n",
              "      <td>NaN</td>\n",
              "      <td>NaN</td>\n",
              "      <td>NaN</td>\n",
              "      <td>NaN</td>\n",
              "      <td>NaN</td>\n",
              "      <td>0</td>\n",
              "      <td>0</td>\n",
              "      <td>0</td>\n",
              "      <td>TIER 3</td>\n",
              "      <td>0</td>\n",
              "    </tr>\n",
              "    <tr>\n",
              "      <th>119526</th>\n",
              "      <td>119527</td>\n",
              "      <td>0</td>\n",
              "      <td>1</td>\n",
              "      <td>NaN</td>\n",
              "      <td>NaN</td>\n",
              "      <td>NaN</td>\n",
              "      <td>NaN</td>\n",
              "      <td>NaN</td>\n",
              "      <td>NaN</td>\n",
              "      <td>NaN</td>\n",
              "      <td>NaN</td>\n",
              "      <td>NaN</td>\n",
              "      <td>NaN</td>\n",
              "      <td>NaN</td>\n",
              "      <td>NaN</td>\n",
              "      <td>NaN</td>\n",
              "      <td>NaN</td>\n",
              "      <td>4</td>\n",
              "      <td>1</td>\n",
              "      <td>2</td>\n",
              "      <td>31990.0</td>\n",
              "      <td>0</td>\n",
              "      <td>NaN</td>\n",
              "      <td>31990.0</td>\n",
              "      <td>43600.0</td>\n",
              "      <td>NaN</td>\n",
              "      <td>13.0</td>\n",
              "      <td>0</td>\n",
              "      <td>0</td>\n",
              "      <td>0</td>\n",
              "      <td>TIER 1</td>\n",
              "      <td>0</td>\n",
              "    </tr>\n",
              "    <tr>\n",
              "      <th>119527</th>\n",
              "      <td>119528</td>\n",
              "      <td>0</td>\n",
              "      <td>0</td>\n",
              "      <td>NaN</td>\n",
              "      <td>NaN</td>\n",
              "      <td>NaN</td>\n",
              "      <td>NaN</td>\n",
              "      <td>NaN</td>\n",
              "      <td>NaN</td>\n",
              "      <td>NaN</td>\n",
              "      <td>NaN</td>\n",
              "      <td>NaN</td>\n",
              "      <td>NaN</td>\n",
              "      <td>NaN</td>\n",
              "      <td>NaN</td>\n",
              "      <td>NaN</td>\n",
              "      <td>NaN</td>\n",
              "      <td>5</td>\n",
              "      <td>4</td>\n",
              "      <td>1</td>\n",
              "      <td>NaN</td>\n",
              "      <td>0</td>\n",
              "      <td>NaN</td>\n",
              "      <td>NaN</td>\n",
              "      <td>49900.0</td>\n",
              "      <td>NaN</td>\n",
              "      <td>30.0</td>\n",
              "      <td>4</td>\n",
              "      <td>3</td>\n",
              "      <td>0</td>\n",
              "      <td>TIER 2</td>\n",
              "      <td>0</td>\n",
              "    </tr>\n",
              "  </tbody>\n",
              "</table>\n",
              "</div>"
            ],
            "text/plain": [
              "        Customer ID  Customer has bounced in first EMI  ...    Tier  Target variable\n",
              "119523       119524                                  0  ...  TIER 3                0\n",
              "119524       119525                                  0  ...  TIER 3                1\n",
              "119525       119526                                  0  ...  TIER 3                0\n",
              "119526       119527                                  0  ...  TIER 1                0\n",
              "119527       119528                                  0  ...  TIER 2                0\n",
              "\n",
              "[5 rows x 32 columns]"
            ]
          },
          "metadata": {},
          "execution_count": 323
        }
      ]
    },
    {
      "cell_type": "code",
      "metadata": {
        "colab": {
          "base_uri": "https://localhost:8080/",
          "height": 442
        },
        "id": "IidVasIksA63",
        "outputId": "aefb45f2-4d89-4482-dfd9-db5298a539c0"
      },
      "source": [
        "Loan_renamed.describe()"
      ],
      "execution_count": null,
      "outputs": [
        {
          "output_type": "execute_result",
          "data": {
            "text/html": [
              "<div>\n",
              "<style scoped>\n",
              "    .dataframe tbody tr th:only-of-type {\n",
              "        vertical-align: middle;\n",
              "    }\n",
              "\n",
              "    .dataframe tbody tr th {\n",
              "        vertical-align: top;\n",
              "    }\n",
              "\n",
              "    .dataframe thead th {\n",
              "        text-align: right;\n",
              "    }\n",
              "</style>\n",
              "<table border=\"1\" class=\"dataframe\">\n",
              "  <thead>\n",
              "    <tr style=\"text-align: right;\">\n",
              "      <th></th>\n",
              "      <th>Customer ID</th>\n",
              "      <th>Customer has bounced in first EMI</th>\n",
              "      <th>No of times bounced 12 months</th>\n",
              "      <th>Maximum MOB</th>\n",
              "      <th>No of times bounced while repaying the loan</th>\n",
              "      <th>EMI</th>\n",
              "      <th>Loan Amount</th>\n",
              "      <th>Tenure</th>\n",
              "      <th>Dealer codes from where customer has purchased the Two wheeler</th>\n",
              "      <th>No of advance EMI paid</th>\n",
              "      <th>Rate of interest</th>\n",
              "      <th>Customer age when loanwas taken</th>\n",
              "      <th>No of loans</th>\n",
              "      <th>No of secured loans</th>\n",
              "      <th>No of unsecured loans</th>\n",
              "      <th>Max amount sanctioned in the Live loans</th>\n",
              "      <th>No of new loans in last 3 months</th>\n",
              "      <th>Total sanctioned amount in the secured Loans which are Live</th>\n",
              "      <th>Total sanctioned amount in the unsecured Loans which are Live</th>\n",
              "      <th>Maximum amount sanctioned for any Two wheeler loan</th>\n",
              "      <th>Time since last Personal loan taken (in months)</th>\n",
              "      <th>Time since first consumer durables loan taken (in months)</th>\n",
              "      <th>No of times 30 days past due in last 6 months</th>\n",
              "      <th>No of times 60 days past due in last 6 months</th>\n",
              "      <th>No of times 90 days past due in last 3 months</th>\n",
              "      <th>Target variable</th>\n",
              "    </tr>\n",
              "  </thead>\n",
              "  <tbody>\n",
              "    <tr>\n",
              "      <th>count</th>\n",
              "      <td>119528.000000</td>\n",
              "      <td>119528.000000</td>\n",
              "      <td>119528.000000</td>\n",
              "      <td>85048.000000</td>\n",
              "      <td>85048.000000</td>\n",
              "      <td>85048.000000</td>\n",
              "      <td>85048.000000</td>\n",
              "      <td>85048.000000</td>\n",
              "      <td>85048.000000</td>\n",
              "      <td>85048.000000</td>\n",
              "      <td>85048.000000</td>\n",
              "      <td>85048.000000</td>\n",
              "      <td>119528.000000</td>\n",
              "      <td>119528.000000</td>\n",
              "      <td>119528.000000</td>\n",
              "      <td>3.662600e+04</td>\n",
              "      <td>119528.0</td>\n",
              "      <td>1.928100e+04</td>\n",
              "      <td>1.902800e+04</td>\n",
              "      <td>104467.000000</td>\n",
              "      <td>13431.000000</td>\n",
              "      <td>20433.000000</td>\n",
              "      <td>119528.000000</td>\n",
              "      <td>119528.000000</td>\n",
              "      <td>119528.000000</td>\n",
              "      <td>119528.000000</td>\n",
              "    </tr>\n",
              "    <tr>\n",
              "      <th>mean</th>\n",
              "      <td>59764.500000</td>\n",
              "      <td>0.028378</td>\n",
              "      <td>0.473061</td>\n",
              "      <td>17.217148</td>\n",
              "      <td>0.690857</td>\n",
              "      <td>2325.701298</td>\n",
              "      <td>39338.081648</td>\n",
              "      <td>21.060048</td>\n",
              "      <td>3512.692233</td>\n",
              "      <td>0.643930</td>\n",
              "      <td>11.703803</td>\n",
              "      <td>37.003645</td>\n",
              "      <td>3.644385</td>\n",
              "      <td>2.247883</td>\n",
              "      <td>0.909720</td>\n",
              "      <td>2.742192e+05</td>\n",
              "      <td>0.0</td>\n",
              "      <td>4.302522e+05</td>\n",
              "      <td>1.766494e+05</td>\n",
              "      <td>41415.210047</td>\n",
              "      <td>46.980940</td>\n",
              "      <td>48.208976</td>\n",
              "      <td>1.076877</td>\n",
              "      <td>0.823991</td>\n",
              "      <td>0.344898</td>\n",
              "      <td>0.021869</td>\n",
              "    </tr>\n",
              "    <tr>\n",
              "      <th>std</th>\n",
              "      <td>34504.905825</td>\n",
              "      <td>0.166052</td>\n",
              "      <td>0.859042</td>\n",
              "      <td>5.203209</td>\n",
              "      <td>1.091658</td>\n",
              "      <td>575.614365</td>\n",
              "      <td>11016.619745</td>\n",
              "      <td>5.698900</td>\n",
              "      <td>3754.675342</td>\n",
              "      <td>0.969123</td>\n",
              "      <td>3.980542</td>\n",
              "      <td>9.886047</td>\n",
              "      <td>6.989012</td>\n",
              "      <td>5.387067</td>\n",
              "      <td>2.476597</td>\n",
              "      <td>7.916241e+05</td>\n",
              "      <td>0.0</td>\n",
              "      <td>8.228143e+05</td>\n",
              "      <td>4.075618e+05</td>\n",
              "      <td>13044.008078</td>\n",
              "      <td>42.716225</td>\n",
              "      <td>41.713826</td>\n",
              "      <td>3.737882</td>\n",
              "      <td>3.172612</td>\n",
              "      <td>1.478180</td>\n",
              "      <td>0.146258</td>\n",
              "    </tr>\n",
              "    <tr>\n",
              "      <th>min</th>\n",
              "      <td>1.000000</td>\n",
              "      <td>0.000000</td>\n",
              "      <td>0.000000</td>\n",
              "      <td>2.000000</td>\n",
              "      <td>0.000000</td>\n",
              "      <td>681.000000</td>\n",
              "      <td>10000.000000</td>\n",
              "      <td>6.000000</td>\n",
              "      <td>1001.000000</td>\n",
              "      <td>0.000000</td>\n",
              "      <td>0.000000</td>\n",
              "      <td>18.000000</td>\n",
              "      <td>0.000000</td>\n",
              "      <td>0.000000</td>\n",
              "      <td>0.000000</td>\n",
              "      <td>1.000000e+00</td>\n",
              "      <td>0.0</td>\n",
              "      <td>9.900000e+01</td>\n",
              "      <td>1.000000e+00</td>\n",
              "      <td>10000.000000</td>\n",
              "      <td>4.000000</td>\n",
              "      <td>4.000000</td>\n",
              "      <td>0.000000</td>\n",
              "      <td>0.000000</td>\n",
              "      <td>0.000000</td>\n",
              "      <td>0.000000</td>\n",
              "    </tr>\n",
              "    <tr>\n",
              "      <th>25%</th>\n",
              "      <td>29882.750000</td>\n",
              "      <td>0.000000</td>\n",
              "      <td>0.000000</td>\n",
              "      <td>14.000000</td>\n",
              "      <td>0.000000</td>\n",
              "      <td>1895.000000</td>\n",
              "      <td>30000.000000</td>\n",
              "      <td>18.000000</td>\n",
              "      <td>1368.000000</td>\n",
              "      <td>0.000000</td>\n",
              "      <td>9.500000</td>\n",
              "      <td>29.000000</td>\n",
              "      <td>1.000000</td>\n",
              "      <td>1.000000</td>\n",
              "      <td>0.000000</td>\n",
              "      <td>4.190700e+04</td>\n",
              "      <td>0.0</td>\n",
              "      <td>4.490000e+04</td>\n",
              "      <td>3.394050e+04</td>\n",
              "      <td>31000.000000</td>\n",
              "      <td>20.000000</td>\n",
              "      <td>23.000000</td>\n",
              "      <td>0.000000</td>\n",
              "      <td>0.000000</td>\n",
              "      <td>0.000000</td>\n",
              "      <td>0.000000</td>\n",
              "    </tr>\n",
              "    <tr>\n",
              "      <th>50%</th>\n",
              "      <td>59764.500000</td>\n",
              "      <td>0.000000</td>\n",
              "      <td>0.000000</td>\n",
              "      <td>17.000000</td>\n",
              "      <td>0.000000</td>\n",
              "      <td>2320.000000</td>\n",
              "      <td>39700.000000</td>\n",
              "      <td>24.000000</td>\n",
              "      <td>2307.000000</td>\n",
              "      <td>0.000000</td>\n",
              "      <td>12.600000</td>\n",
              "      <td>36.000000</td>\n",
              "      <td>1.000000</td>\n",
              "      <td>1.000000</td>\n",
              "      <td>0.000000</td>\n",
              "      <td>9.500000e+04</td>\n",
              "      <td>0.0</td>\n",
              "      <td>1.100000e+05</td>\n",
              "      <td>8.800000e+04</td>\n",
              "      <td>42250.000000</td>\n",
              "      <td>31.000000</td>\n",
              "      <td>35.000000</td>\n",
              "      <td>0.000000</td>\n",
              "      <td>0.000000</td>\n",
              "      <td>0.000000</td>\n",
              "      <td>0.000000</td>\n",
              "    </tr>\n",
              "    <tr>\n",
              "      <th>75%</th>\n",
              "      <td>89646.250000</td>\n",
              "      <td>0.000000</td>\n",
              "      <td>1.000000</td>\n",
              "      <td>21.000000</td>\n",
              "      <td>1.000000</td>\n",
              "      <td>2689.000000</td>\n",
              "      <td>48000.000000</td>\n",
              "      <td>24.000000</td>\n",
              "      <td>3911.000000</td>\n",
              "      <td>1.000000</td>\n",
              "      <td>14.090000</td>\n",
              "      <td>45.000000</td>\n",
              "      <td>4.000000</td>\n",
              "      <td>2.000000</td>\n",
              "      <td>1.000000</td>\n",
              "      <td>3.000000e+05</td>\n",
              "      <td>0.0</td>\n",
              "      <td>4.920000e+05</td>\n",
              "      <td>2.000048e+05</td>\n",
              "      <td>49300.000000</td>\n",
              "      <td>52.000000</td>\n",
              "      <td>55.000000</td>\n",
              "      <td>0.000000</td>\n",
              "      <td>0.000000</td>\n",
              "      <td>0.000000</td>\n",
              "      <td>0.000000</td>\n",
              "    </tr>\n",
              "    <tr>\n",
              "      <th>max</th>\n",
              "      <td>119528.000000</td>\n",
              "      <td>1.000000</td>\n",
              "      <td>12.000000</td>\n",
              "      <td>36.000000</td>\n",
              "      <td>29.000000</td>\n",
              "      <td>7840.000000</td>\n",
              "      <td>96000.000000</td>\n",
              "      <td>36.000000</td>\n",
              "      <td>21106.000000</td>\n",
              "      <td>6.000000</td>\n",
              "      <td>20.650000</td>\n",
              "      <td>67.000000</td>\n",
              "      <td>555.000000</td>\n",
              "      <td>523.000000</td>\n",
              "      <td>54.000000</td>\n",
              "      <td>1.000000e+08</td>\n",
              "      <td>0.0</td>\n",
              "      <td>2.022777e+07</td>\n",
              "      <td>3.000000e+07</td>\n",
              "      <td>700000.000000</td>\n",
              "      <td>252.000000</td>\n",
              "      <td>268.000000</td>\n",
              "      <td>314.000000</td>\n",
              "      <td>243.000000</td>\n",
              "      <td>96.000000</td>\n",
              "      <td>1.000000</td>\n",
              "    </tr>\n",
              "  </tbody>\n",
              "</table>\n",
              "</div>"
            ],
            "text/plain": [
              "         Customer ID  ...  Target variable\n",
              "count  119528.000000  ...    119528.000000\n",
              "mean    59764.500000  ...         0.021869\n",
              "std     34504.905825  ...         0.146258\n",
              "min         1.000000  ...         0.000000\n",
              "25%     29882.750000  ...         0.000000\n",
              "50%     59764.500000  ...         0.000000\n",
              "75%     89646.250000  ...         0.000000\n",
              "max    119528.000000  ...         1.000000\n",
              "\n",
              "[8 rows x 26 columns]"
            ]
          },
          "metadata": {},
          "execution_count": 324
        }
      ]
    },
    {
      "cell_type": "code",
      "metadata": {
        "id": "9Kx0-5zHf3FZ"
      },
      "source": [
        "# Saving the same for an Excel exploration- usually much quicker\n",
        "# Loan_renamed.to_csv('credit_default_data.csv')"
      ],
      "execution_count": null,
      "outputs": []
    },
    {
      "cell_type": "code",
      "metadata": {
        "id": "v_HUSI-Hf3Fb"
      },
      "source": [
        "# Missing values treatment \n",
        "Loan_renamed.dropna(axis=0,how='any',subset=['Loan Amount','Gender'],inplace=True)"
      ],
      "execution_count": null,
      "outputs": []
    },
    {
      "cell_type": "markdown",
      "metadata": {
        "id": "eWo0NbV9A5cj"
      },
      "source": [
        "Ratio of Male and female who took loan"
      ]
    },
    {
      "cell_type": "code",
      "metadata": {
        "colab": {
          "base_uri": "https://localhost:8080/",
          "height": 333
        },
        "id": "RjCOTmvvAyzo",
        "outputId": "5604f7ca-e94e-4c64-e79b-022bd4340faa"
      },
      "source": [
        "Loan_renamed.Gender.value_counts().plot(kind = \"bar\", figsize = (10,4))\n",
        "plt.title(\"Ratio of male and female who took loan\")"
      ],
      "execution_count": null,
      "outputs": [
        {
          "output_type": "execute_result",
          "data": {
            "text/plain": [
              "Text(0.5, 1.0, 'Ratio of male and female who took loan')"
            ]
          },
          "metadata": {},
          "execution_count": 327
        },
        {
          "output_type": "display_data",
          "data": {
            "image/png": "[encoded data removed]",
            "text/plain": [
              "<Figure size 720x288 with 1 Axes>"
            ]
          },
          "metadata": {
            "needs_background": "light"
          }
        }
      ]
    },
    {
      "cell_type": "code",
      "metadata": {
        "colab": {
          "base_uri": "https://localhost:8080/",
          "height": 306
        },
        "id": "HJMpCdl3f3Fc",
        "outputId": "7dbac371-de3a-467f-d7ce-9c0fc0c5521f"
      },
      "source": [
        "import warnings\n",
        "warnings.filterwarnings('ignore')\n",
        "\n",
        "# Getting the number of positive and negative examples. \n",
        "sns.countplot(Loan_renamed['Target variable'])\n",
        "plt.xticks((0, 1), [\"Non-Defaulter\", \"Defaulter\"])\n",
        "plt.xlabel(\"\")\n",
        "plt.ylabel(\"Count\")\n",
        "plt.title(\"Class counts\", y=1, fontdict={\"fontsize\": 20})"
      ],
      "execution_count": null,
      "outputs": [
        {
          "output_type": "execute_result",
          "data": {
            "text/plain": [
              "Text(0.5, 1, 'Class counts')"
            ]
          },
          "metadata": {},
          "execution_count": 328
        },
        {
          "output_type": "display_data",
          "data": {
            "image/png": "[encoded data removed]",
            "text/plain": [
              "<Figure size 432x288 with 1 Axes>"
            ]
          },
          "metadata": {
            "needs_background": "light"
          }
        }
      ]
    },
    {
      "cell_type": "code",
      "metadata": {
        "colab": {
          "base_uri": "https://localhost:8080/"
        },
        "id": "bXft5CuCf3Fd",
        "outputId": "0b94722d-4977-462f-d28a-178f7f1b9a69"
      },
      "source": [
        "Loan_renamed['Target variable'].value_counts()"
      ],
      "execution_count": null,
      "outputs": [
        {
          "output_type": "execute_result",
          "data": {
            "text/plain": [
              "0    83194\n",
              "1     1854\n",
              "Name: Target variable, dtype: int64"
            ]
          },
          "metadata": {},
          "execution_count": 329
        }
      ]
    },
    {
      "cell_type": "markdown",
      "metadata": {
        "id": "bV-5laudf3Fe"
      },
      "source": [
        "The data set is pretty imbalanced as expected where positive examples defualters are significanltly less than 25%. We'll explain in the next section how to handle all of them after giving an overview of ensemble methods\n"
      ]
    },
    {
      "cell_type": "markdown",
      "metadata": {
        "id": "Ok0Hr0DSEqRU"
      },
      "source": [
        "#Loan amount"
      ]
    },
    {
      "cell_type": "markdown",
      "metadata": {
        "id": "kRJlz7M72NmZ"
      },
      "source": [
        "<font color='blue'>For the three plots about LOAN AMOUNT, you could indicate why each is significant and what insights it gives that are different from the other or maybe what it adds on.</font>"
      ]
    },
    {
      "cell_type": "code",
      "metadata": {
        "colab": {
          "base_uri": "https://localhost:8080/",
          "height": 71
        },
        "id": "kXclex2NEpI-",
        "outputId": "d05d9cb3-9fa4-4493-f57e-54d140f63a71"
      },
      "source": [
        "\n",
        "sns.set(style=\"whitegrid\")\n",
        "\n",
        "fig, ax=plt.subplots(nrows =1,ncols=3,figsize=(20,8))\n",
        "ax[0].set_title(\"Loan Amount (Distribution Plot)\")\n",
        "sns.distplot(Loan_renamed['Loan Amount'],ax=ax[0])\n",
        "ax[1].set_title(\"Loan Amount (Violin Plot)\")\n",
        "sns.violinplot(data =Loan_renamed, x='Tier',y='Loan Amount',ax=ax[1], inner=\"quartile\")\n",
        "ax[2].set_title(\"Loan Amount (Box Plot)\")\n",
        "sns.boxplot(data =Loan_renamed, x='Employment type',y='Loan Amount',ax=ax[2],orient='v')"
      ],
      "execution_count": null,
      "outputs": [
        {
          "output_type": "execute_result",
          "data": {
            "text/plain": [
              "<matplotlib.axes._subplots.AxesSubplot at 0x7f75314a3690>"
            ]
          },
          "metadata": {},
          "execution_count": 330
        },
        {
          "output_type": "display_data",
          "data": {
            "image/png": "[encoded data removed]",
            "text/plain": [
              "<Figure size 1440x576 with 3 Axes>"
            ]
          },
          "metadata": {}
        }
      ]
    },
    {
      "cell_type": "markdown",
      "metadata": {
        "id": "wNoJRGLZHTsG"
      },
      "source": [
        "###Age- age at which the client took the loan"
      ]
    },
    {
      "cell_type": "code",
      "metadata": {
        "colab": {
          "base_uri": "https://localhost:8080/",
          "height": 382
        },
        "id": "7jEfILCAHqBI",
        "outputId": "6787eda9-b97e-47d8-e2d2-f6aa358b6fcc"
      },
      "source": [
        "plt.figure(figsize=(17,5))\n",
        "\n",
        "#bar plot\n",
        "Loan_renamed['Customer age when loanwas taken'].plot(kind='hist',color='b',alpha=0.7, edgecolor='black')\n",
        "plt.xlabel(\"Age\", labelpad=14)\n",
        "plt.ylabel(\"Count of People\", labelpad=14)\n",
        "plt.title(\" Age of Customer when the loan was approved\")\n",
        "plt.legend(loc=\"best\",prop={\"size\":12})"
      ],
      "execution_count": null,
      "outputs": [
        {
          "output_type": "execute_result",
          "data": {
            "text/plain": [
              "<matplotlib.legend.Legend at 0x7f75314bd650>"
            ]
          },
          "metadata": {},
          "execution_count": 331
        },
        {
          "output_type": "display_data",
          "data": {
            "image/png": "[encoded data removed]",
            "text/plain": [
              "<Figure size 1224x360 with 1 Axes>"
            ]
          },
          "metadata": {}
        }
      ]
    },
    {
      "cell_type": "markdown",
      "metadata": {
        "id": "_QHBLSmJe_gx"
      },
      "source": []
    },
    {
      "cell_type": "code",
      "metadata": {
        "id": "8fri9ZBpe9Fk"
      },
      "source": [],
      "execution_count": null,
      "outputs": []
    },
    {
      "cell_type": "code",
      "metadata": {
        "colab": {
          "base_uri": "https://localhost:8080/",
          "height": 305
        },
        "id": "aYB6LB1Xf3Fi",
        "outputId": "bfeca0fa-43d6-4e87-8abc-942e456de078"
      },
      "source": [
        "sns.scatterplot(x=Loan_renamed['Customer age when loanwas taken'],y='Loan Amount',data=Loan_renamed)"
      ],
      "execution_count": null,
      "outputs": [
        {
          "output_type": "execute_result",
          "data": {
            "text/plain": [
              "<matplotlib.axes._subplots.AxesSubplot at 0x7f75314bd8d0>"
            ]
          },
          "metadata": {},
          "execution_count": 332
        },
        {
          "output_type": "display_data",
          "data": {
            "image/png": "[encoded data removed]",
            "text/plain": [
              "<Figure size 432x288 with 1 Axes>"
            ]
          },
          "metadata": {}
        }
      ]
    },
    {
      "cell_type": "code",
      "metadata": {
        "colab": {
          "base_uri": "https://localhost:8080/",
          "height": 71
        },
        "id": "pFJ3dsDdf3Fj",
        "outputId": "9c6e1b78-10a4-4bc2-fbdf-53d7aea14d95"
      },
      "source": [
        "sns.scatterplot(x=Loan_renamed['Customer age when loanwas taken'],y='Target variable',data=Loan_renamed)"
      ],
      "execution_count": null,
      "outputs": [
        {
          "output_type": "execute_result",
          "data": {
            "text/plain": [
              "<matplotlib.axes._subplots.AxesSubplot at 0x7f753122ff50>"
            ]
          },
          "metadata": {},
          "execution_count": 333
        },
        {
          "output_type": "display_data",
          "data": {
            "image/png": "[encoded data removed]",
            "text/plain": [
              "<Figure size 432x288 with 1 Axes>"
            ]
          },
          "metadata": {}
        }
      ]
    },
    {
      "cell_type": "code",
      "metadata": {
        "id": "PR15t_mBf3Fk"
      },
      "source": [
        "dropped=['Time since first consumer durables loan taken (in months)','Time since last Personal loan taken (in months)',\n",
        "'Max amount sanctioned in the Live loans','Total sanctioned amount in the secured Loans which are Live',\n",
        "'Total sanctioned amount in the unsecured Loans which are Live','Customer ID','Maximum amount sanctioned for any Two wheeler loan','No of new loans in last 3 months','Gender','Customer has bounced in first EMI','No of secured loans','Employment type','Resident type of customer']\n",
        "\n",
        "Loan_renamed.drop(dropped,axis=1,inplace=True)"
      ],
      "execution_count": null,
      "outputs": []
    },
    {
      "cell_type": "markdown",
      "metadata": {
        "id": "ndgpsxcKf3Fk"
      },
      "source": [
        "#"
      ]
    },
    {
      "cell_type": "markdown",
      "metadata": {
        "id": "QXjddjH4f3Fk"
      },
      "source": [
        "## DATA CLEANING \n"
      ]
    },
    {
      "cell_type": "code",
      "metadata": {
        "id": "aIpSGCTlf3Fk"
      },
      "source": [
        "data=Loan_renamed.copy()"
      ],
      "execution_count": null,
      "outputs": []
    },
    {
      "cell_type": "code",
      "metadata": {
        "id": "E0lYGP0rf3Fl"
      },
      "source": [
        "CatVariables = data.select_dtypes(include=['object'])\n",
        "NumVariables = data.select_dtypes(include=['float','int'])\n",
        "\n",
        "#standardizing column names for easier usage\n",
        "data.columns=data.columns.str.strip().str.lower().str.replace(' ', '_').str.replace('(', '').str.replace(')', '')\n",
        "CatVariables=CatVariables.columns.str.strip().str.lower().str.replace(' ', '_').str.replace('(', '').str.replace(')', '')\n",
        "NumVariables=NumVariables.columns.str.strip().str.lower().str.replace(' ', '_').str.replace('(', '').str.replace(')', '')"
      ],
      "execution_count": null,
      "outputs": []
    },
    {
      "cell_type": "markdown",
      "metadata": {
        "id": "7S7hsZN9f3Fl"
      },
      "source": [
        "\n",
        " # Strategies to deal with missing value\n",
        "  Almost always real world data sets have missing values. This can be due, for example, users didn't fill some part of the forms or some transformations happened while collecting and cleaning the data before they send it to you. Sometimes missing values are informative and weren't generated randomly. Therefore, it's a good practice to add binary features to check if there is missing values in each row for each feature that has missing values. \n",
        "    \n",
        "In our case, a number of the variables have missing values consistently pointing to a lapse in the data generation process. Thus we will consider deleting these observations only after exploring the performance of the model with imputed values. \n",
        "Columns with a significant portion of the observations missing will be dropped as the model we have opted for does not take in missing values. \n",
        "    \n",
        " Below are some of the most common strategies for dealing with missing values:\\n\",\n",
        "- Simply delete all examples that have any missing values. This is usually done if the missing values are very small compared to the size of the data set and the missing values were random. In other words, the added binary features did not improve the model. One disadvantage for this strategy is that the model will throw an error when test data has missing values at prediction.\n",
        "\n",
        "- Impute the missing values using the mean of each feature separately\n",
        "- Impute the missing values using the median of each feature separately.\n",
        "- Use *Multivariate Imputation by Chained Equations (MICE)*. The main disadvantage of MICE is that we can't use it as a transformer in sklearn pipelines and it requires to use the full data set when imputing the missing values. This means that there will be a risk of data leakage since we're using both training and test sets to impute the missing values. \n",
        "\n",
        "The following steps explain how MICE works:\n",
        "- First step: Impute the missing values using the mean of each feature separately.\n",
        "- Second step: For each feature that has missing values, we take all other features as predictors (including the ones that had missing values) and try to predict the values for this feature using linear regression for example. \n",
        "     The predicted values will replace the old values for that feature. We do this for all features that have missing values, i.e. each feature will be used once as a target variable to predict its values and the rest of the time as a predictor to predict other features' values. Therefore, one complete cycle (iteration) will be done once we run the model $k$ times to predict the $k$ features that have missing values. For our data set, each iteration will run the linear regression 6 times to predict the 6 features.\n",
        "- Third step: Repeat step 2 until there is not much of change between predictions.\n",
        "- Impute the missing values using K-Nearest Neighbors. We compute distance between all examples (excluding missing values) in the data set and take the average of k-nearest neighbors of each missing value. There's no implementation for it yet in sklearn and it's pretty inefficient to compute it since we'll have to go through all examples to calculate distances. Therefore, we'll skip this strategy in this notebook."
      ]
    },
    {
      "cell_type": "markdown",
      "metadata": {
        "id": "CvOuzuf1f3Fl"
      },
      "source": [
        "# Imputing missing values \n",
        "### To do, investigate them first and document the case for imputation, we might need to drop them. "
      ]
    },
    {
      "cell_type": "code",
      "metadata": {
        "id": "LcPILADwf3Fm"
      },
      "source": [
        "#For quantitative data\n",
        "from sklearn.impute import SimpleImputer\n",
        "numerical_cols = data[NumVariables]\n",
        "categorical_cols = data[CatVariables]\n",
        "\n",
        "#imp_mean = SimpleImputer(missing_values=np.nan, strategy='median')\n",
        "#lat = imp_mean.fit_transform(numerical_cols)\n",
        "#imp_mode = SimpleImputer(missing_values=np.nan,strategy='most_frequent')\n",
        "#g_se = imp_mode.fit_transform(categorical_cols)"
      ],
      "execution_count": null,
      "outputs": []
    },
    {
      "cell_type": "code",
      "metadata": {
        "id": "VsGYSSOVf3Fm"
      },
      "source": [
        "#data[CatVariables]=g_se\n",
        "#data[NumVariables]=lat"
      ],
      "execution_count": null,
      "outputs": []
    },
    {
      "cell_type": "markdown",
      "metadata": {
        "id": "YNGd5tC_f3Fm"
      },
      "source": [
        "## Encoding\n",
        "\n",
        "1. Label encoding \n",
        "\n",
        "We can  use  LabelEncoder to encode our variable to numbers. What a label encoder essentially does is that it sees the first value in the column and converts it to 0, next value to 1 and so on.The integer values have a natural ordered relationship between each other and machine learning algorithms may be able to understand and harness this relationship. This approach works reasonably well with tree models\n",
        "\n",
        "2. One hot encoding \n",
        "\n",
        "For categorical variables where no such ordinal relationship exists, the integer/label encoding does not suffice.\n",
        "In fact, using this encoding and allowing the model to assume a natural ordering between categories may result in poor performance or unexpected results (predictions halfway between categories).\n",
        "\n",
        "In this case, a one-hot encoding can be applied to the integer representation. This is where the integer encoded variable is removed and a new binary variable is added for each unique integer value.\n",
        "\n",
        "So if we have n levels in a category, we will get n-1 features."
      ]
    },
    {
      "cell_type": "code",
      "metadata": {
        "id": "Qf6zZuSdf3Fn"
      },
      "source": [
        "# Dealing with categorical columns\n",
        "# Label Encoding for object to numeric conversion\n",
        "from sklearn.preprocessing import LabelEncoder\n",
        "le = LabelEncoder()\n",
        "\n",
        "for feature in CatVariables:\n",
        "    data[feature] = le.fit_transform(data[feature].astype(str))\n"
      ],
      "execution_count": null,
      "outputs": []
    },
    {
      "cell_type": "code",
      "metadata": {
        "colab": {
          "base_uri": "https://localhost:8080/"
        },
        "id": "5DSDunzEf3Fn",
        "outputId": "894a0f9a-6f3b-4405-ba4e-ce9ce961364d"
      },
      "source": [
        "data.isnull().sum()"
      ],
      "execution_count": null,
      "outputs": [
        {
          "output_type": "execute_result",
          "data": {
            "text/plain": [
              "no_of_times_bounced_12_months                                     0\n",
              "maximum_mob                                                       0\n",
              "no_of_times_bounced_while_repaying_the_loan                       0\n",
              "emi                                                               0\n",
              "loan_amount                                                       0\n",
              "tenure                                                            0\n",
              "dealer_codes_from_where_customer_has_purchased_the_two_wheeler    0\n",
              "product_code_of_two_wheeler                                       0\n",
              "no_of_advance_emi_paid                                            0\n",
              "rate_of_interest                                                  0\n",
              "date_of_birth                                                     0\n",
              "customer_age_when_loanwas_taken                                   0\n",
              "no_of_loans                                                       0\n",
              "no_of_unsecured_loans                                             0\n",
              "no_of_times_30_days_past_due_in_last_6_months                     0\n",
              "no_of_times_60_days_past_due_in_last_6_months                     0\n",
              "no_of_times_90_days_past_due_in_last_3_months                     0\n",
              "tier                                                              0\n",
              "target_variable                                                   0\n",
              "dtype: int64"
            ]
          },
          "metadata": {},
          "execution_count": 340
        }
      ]
    },
    {
      "cell_type": "markdown",
      "metadata": {
        "id": "Dy9XxCygf3Fn"
      },
      "source": [
        "# MODELLING "
      ]
    },
    {
      "cell_type": "code",
      "metadata": {
        "id": "VvMFcG3cf3Fn"
      },
      "source": [
        "X=data.drop(['target_variable'],axis=1)\n",
        "y=data[[\"target_variable\"]]"
      ],
      "execution_count": null,
      "outputs": []
    },
    {
      "cell_type": "code",
      "metadata": {
        "id": "xFT9sp6Xf3Fo",
        "colab": {
          "base_uri": "https://localhost:8080/"
        },
        "outputId": "0036816b-f099-4f2e-ea78-46a899ff9f32"
      },
      "source": [
        "# print((X.shape, y.shape))\n",
        "from sklearn.model_selection import train_test_split\n",
        "x_train, x_test, y_train, y_test = train_test_split(X,y, test_size = 0.3, random_state = 10)\n",
        "\n",
        "from sklearn.ensemble import RandomForestClassifier \n",
        "model = RandomForestClassifier(max_depth=4,min_samples_leaf=3, random_state = 10) \n",
        "model.fit(x_train, y_train)\n",
        "\n",
        "from sklearn.metrics import accuracy_score\n",
        "yhat = model.predict(x_test)\n",
        "print(f'Your train accuracy is: {accuracy_score(y_test,yhat)}')\n",
        "\n",
        "pred_train = model.predict(x_train)\n",
        "print(f'Your prediction is: {accuracy_score(y_train,pred_train)}')\n"
      ],
      "execution_count": null,
      "outputs": [
        {
          "output_type": "stream",
          "name": "stdout",
          "text": [
            "Your train accuracy is: 0.9783264746227709\n",
            "Your prediction is: 0.9781465741689483\n"
          ]
        }
      ]
    },
    {
      "cell_type": "code",
      "metadata": {
        "id": "3s8ITNj2f3Fo",
        "colab": {
          "base_uri": "https://localhost:8080/"
        },
        "outputId": "05084ccd-d4fb-471d-f598-dd3d9c979960"
      },
      "source": [
        "from sklearn.metrics import f1_score\n",
        "f1_score(y_test, yhat, average='weighted') "
      ],
      "execution_count": null,
      "outputs": [
        {
          "output_type": "execute_result",
          "data": {
            "text/plain": [
              "0.967608433921731"
            ]
          },
          "metadata": {},
          "execution_count": 343
        }
      ]
    },
    {
      "cell_type": "code",
      "metadata": {
        "id": "ecBI1H97f3Fo"
      },
      "source": [
        "## Use the confusion matrix to visualize the precision and recall - and understand the effect of class imbalance in prediction\n",
        "from sklearn.metrics import classification_report, confusion_matrix\n",
        "import itertools\n",
        "\n",
        "def plot_confusion_matrix(cm, classes,\n",
        "                          normalize=False,\n",
        "                          title='Confusion matrix',\n",
        "                          cmap=plt.cm.Blues):\n",
        "    \"\"\"\n",
        "    This function prints and plots the confusion matrix.\n",
        "    Normalization can be applied by setting `normalize=True`.\n",
        "    \"\"\"\n",
        "    if normalize:\n",
        "        cm = cm.astype('float') / cm.sum(axis=1)[:, np.newaxis]\n",
        "        print(\"Normalized confusion matrix\")\n",
        "    else:\n",
        "        print('Confusion matrix, without normalization')\n",
        "\n",
        "    print(cm)\n",
        "\n",
        "    plt.imshow(cm, interpolation='nearest', cmap=cmap)\n",
        "    plt.title(title)\n",
        "    plt.colorbar()\n",
        "    tick_marks = np.arange(len(classes))\n",
        "    plt.xticks(tick_marks, classes, rotation=45)\n",
        "    plt.yticks(tick_marks, classes)\n",
        "\n",
        "    fmt = '.2f' if normalize else 'd'\n",
        "    thresh = cm.max() / 2.\n",
        "    for i, j in itertools.product(range(cm.shape[0]), range(cm.shape[1])):\n",
        "        plt.text(j, i, format(cm[i, j], fmt),\n",
        "                 horizontalalignment=\"center\",\n",
        "                 color=\"white\" if cm[i, j] > thresh else \"black\")\n",
        "\n",
        "    plt.tight_layout()\n",
        "    plt.ylabel('True label')\n",
        "    plt.xlabel('Predicted label')"
      ],
      "execution_count": null,
      "outputs": []
    },
    {
      "cell_type": "code",
      "metadata": {
        "id": "JM3sFqGzf3Fo",
        "colab": {
          "base_uri": "https://localhost:8080/",
          "height": 262
        },
        "outputId": "e673a57e-aaa7-484b-c518-d1294ef9ada5"
      },
      "source": [
        "# Compute confusion matrix\n",
        "cnf_matrix = confusion_matrix(y_test, yhat, labels=[1,0])\n",
        "np.set_printoptions(precision=2)\n",
        "\n",
        "print (classification_report(y_test, yhat))\n",
        "\n",
        "# Plot non-normalized confusion matrix\n",
        "plt.figure()\n",
        "plot_confusion_matrix(cnf_matrix, classes=['Defaulters(1)','Non-Defaulters(0)'],normalize= False,  title='Confusion matrix')"
      ],
      "execution_count": null,
      "outputs": [
        {
          "output_type": "stream",
          "name": "stdout",
          "text": [
            "              precision    recall  f1-score   support\n",
            "\n",
            "           0       0.98      1.00      0.99     24962\n",
            "           1       0.00      0.00      0.00       553\n",
            "\n",
            "    accuracy                           0.98     25515\n",
            "   macro avg       0.49      0.50      0.49     25515\n",
            "weighted avg       0.96      0.98      0.97     25515\n",
            "\n",
            "Confusion matrix, without normalization\n",
            "[[    0   553]\n",
            " [    0 24962]]\n"
          ]
        },
        {
          "output_type": "display_data",
          "data": {
            "image/png": "[encoded data removed]",
            "text/plain": [
              "<Figure size 432x288 with 2 Axes>"
            ]
          },
          "metadata": {}
        }
      ]
    },
    {
      "cell_type": "markdown",
      "metadata": {
        "id": "zMZCw2Ncf3Fp"
      },
      "source": [
        ">  Clearly, the model has not leant enough examples of the default class, thus the predictions are for the non-defualters, and given their numbers, any complete prediction of the non-default class will give a misleading value of the perfomance metric"
      ]
    },
    {
      "cell_type": "markdown",
      "metadata": {
        "id": "8zG7j1hOf3Fp"
      },
      "source": [
        "Yeah looks like we will consider class imbalance handling for better unbiased results : smote , upsampling : rose and all that would be necessary \n",
        "\n",
        "## SMOTE\n",
        "S𝒚𝒏𝒕𝒉𝒆𝒕𝒊𝒄 𝒎𝒊𝒏𝒐𝒓𝒊𝒕𝒚 𝒐𝒗𝒆𝒓𝒔𝒂𝒎𝒑𝒍𝒊𝒏𝒈 𝒕𝒆𝒄𝒉𝒏𝒊𝒒𝒖𝒆- creates examples of the minority class by looking at the distribution of the minority class and \"guesses\" what the other cases would have been \n",
        "- pick two points that are relatively closer to each other distance wise \n",
        "-  draw a line \n",
        "- generate a new point along that line \n",
        "\n",
        "It doesn't always work but a lot of time it works and it is a good technique to look at when there is no way of generating more data and the aforementioned techniques are not applicable per se \n",
        "It is better for increasing precision(𝙥𝙤𝙨𝙞𝙩𝙞𝙫𝙚 𝙞𝙙𝙚𝙣𝙩𝙞𝙛𝙞𝙚𝙙 𝙖𝙨 𝒕𝒉𝒂𝒕 𝒂𝒓𝒆 𝒑𝒐𝒔𝒊𝒕𝒊𝒗𝒆 ) but this comes at the cost of recall (𝒐𝒖𝒕 𝒐𝒇 𝒂𝒍𝒍 𝒕𝒉𝒆 𝒑𝒐𝒔𝒊𝒕𝒊𝒗𝒆𝒔 𝒘𝒉𝒊𝒄𝒉 𝒐𝒏𝒆𝒔 𝒉𝒂𝒗𝒆 𝒃𝒆𝒆𝒏 𝒄𝒐𝒓𝒓𝒆𝒄𝒕𝒍𝒚 𝒊𝒅𝒆𝒏𝒕𝒊𝒇𝒊𝒆𝒅)\n"
      ]
    },
    {
      "cell_type": "code",
      "metadata": {
        "id": "tzmw5WFQf3Fx",
        "colab": {
          "base_uri": "https://localhost:8080/"
        },
        "outputId": "c26a3692-19ab-49f7-93b1-4ea8e3f09a1d"
      },
      "source": [
        "! pip install imblearn"
      ],
      "execution_count": null,
      "outputs": [
        {
          "output_type": "stream",
          "name": "stdout",
          "text": [
            "Requirement already satisfied: imblearn in /usr/local/lib/python3.7/dist-packages (0.0)\n",
            "Requirement already satisfied: imbalanced-learn in /usr/local/lib/python3.7/dist-packages (from imblearn) (0.8.1)\n",
            "Requirement already satisfied: scikit-learn>=0.24 in /usr/local/lib/python3.7/dist-packages (from imbalanced-learn->imblearn) (1.0.1)\n",
            "Requirement already satisfied: scipy>=0.19.1 in /usr/local/lib/python3.7/dist-packages (from imbalanced-learn->imblearn) (1.4.1)\n",
            "Requirement already satisfied: joblib>=0.11 in /usr/local/lib/python3.7/dist-packages (from imbalanced-learn->imblearn) (1.1.0)\n",
            "Requirement already satisfied: numpy>=1.13.3 in /usr/local/lib/python3.7/dist-packages (from imbalanced-learn->imblearn) (1.19.5)\n",
            "Requirement already satisfied: threadpoolctl>=2.0.0 in /usr/local/lib/python3.7/dist-packages (from scikit-learn>=0.24->imbalanced-learn->imblearn) (3.0.0)\n"
          ]
        }
      ]
    },
    {
      "cell_type": "code",
      "metadata": {
        "id": "K4t9Rsotf3Fx",
        "colab": {
          "base_uri": "https://localhost:8080/",
          "height": 88
        },
        "outputId": "a6072bb0-b4e3-48a0-f6f1-5e4c885d2606"
      },
      "source": [
        "from collections import Counter\n",
        "from imblearn.over_sampling import SMOTE\n",
        "smote_sample=SMOTE(random_state=124,sampling_strategy='auto') # the sampling strategy can be one of float, str, dict or callable `float``,\n",
        "#it corresponds to the desired ratio of the number of samples in the minority class over the number of samples in the majority class after resampling ie {1:500}\n",
        "# ``'minority'``: resample only  minority class; 'not minority'``:all but the minority class; ``'not majority'``: all but the majority, ``'all'`` ,``'auto'``:\n",
        "x_res, y_res=smote_sample.fit_resample(X,y)\n",
        "\n",
        "\n",
        "# now plot the classes\n",
        "y_res.hist()"
      ],
      "execution_count": null,
      "outputs": [
        {
          "output_type": "execute_result",
          "data": {
            "text/plain": [
              "array([[<matplotlib.axes._subplots.AxesSubplot object at 0x7f753116f950>]],\n",
              "      dtype=object)"
            ]
          },
          "metadata": {},
          "execution_count": 347
        },
        {
          "output_type": "display_data",
          "data": {
            "image/png": "[encoded data removed]",
            "text/plain": [
              "<Figure size 432x288 with 1 Axes>"
            ]
          },
          "metadata": {}
        }
      ]
    },
    {
      "cell_type": "markdown",
      "metadata": {
        "id": "Ct4KbLNuf3Fy"
      },
      "source": [
        "With SMOTE we get a feature space with a similar distribution to the original data set, except that in this case we actually have a balanced ratio of the negative and positive examples. Thus our model should be able to learn the patterns associated with both defaults and non-defaults. Here we are interested in both an increase in precision and recall. "
      ]
    },
    {
      "cell_type": "code",
      "metadata": {
        "id": "RHcyvDYxf3Fy",
        "colab": {
          "base_uri": "https://localhost:8080/"
        },
        "outputId": "e89f32bd-8c0c-434d-efe3-62c6826360ba"
      },
      "source": [
        "print(x_res.shape,y_res.shape)"
      ],
      "execution_count": null,
      "outputs": [
        {
          "output_type": "stream",
          "name": "stdout",
          "text": [
            "(166388, 18) (166388, 1)\n"
          ]
        }
      ]
    },
    {
      "cell_type": "markdown",
      "metadata": {
        "id": "gpEqC6Psf3Fy"
      },
      "source": [
        "### Re-Building the algorithm with the balanced data\n"
      ]
    },
    {
      "cell_type": "code",
      "metadata": {
        "id": "BD9oC_tEf3Fy",
        "colab": {
          "base_uri": "https://localhost:8080/"
        },
        "outputId": "ef6ca9ad-2204-4b46-96a9-22f4fae3261e"
      },
      "source": [
        "from sklearn.ensemble import RandomForestClassifier \n",
        "x_train, x_test, y_train, y_test = train_test_split(x_res,y_res, test_size = 0.3, random_state = 10)\n",
        "model = RandomForestClassifier(max_depth=4, random_state = 10) \n",
        "model.fit(x_train, y_train)\n",
        "\n",
        "from sklearn.metrics import accuracy_score\n",
        "yhat = model.predict(x_test)\n",
        "print(f'Your test accuracy is: {accuracy_score(y_test,yhat)}')\n",
        "\n",
        "pred_train = model.predict(x_train)\n",
        "print(f'Your prediction is: {accuracy_score(y_train,pred_train)}')\n",
        "\n",
        "# If you choose class_weight = \"balanced\", the classes will be weighted inversely proportional to how frequently\n",
        "#  they appear in the data."
      ],
      "execution_count": null,
      "outputs": [
        {
          "output_type": "stream",
          "name": "stdout",
          "text": [
            "Your test accuracy is: 0.8306789270188513\n",
            "Your prediction is: 0.8298718135844975\n"
          ]
        }
      ]
    },
    {
      "cell_type": "code",
      "metadata": {
        "id": "i_huM-Dtf3Fy",
        "colab": {
          "base_uri": "https://localhost:8080/"
        },
        "outputId": "d54fd9e6-196b-429c-a6b3-a229ac57cef7"
      },
      "source": [
        "# Compute confusion matrix\n",
        "cnf_matrix = confusion_matrix(y_test, yhat, labels=[1,0])\n",
        "np.set_printoptions(precision=2)\n",
        "\n",
        "print (classification_report(y_test, yhat))\n",
        "\n",
        "# Plot non-normalized confusion matrix\n",
        "plt.figure()\n",
        "plot_confusion_matrix(cnf_matrix, classes=['Defaulters(1)','Non-Defaulters(0)'],normalize= False,  title='Confusion matrix')"
      ],
      "execution_count": null,
      "outputs": [
        {
          "output_type": "stream",
          "name": "stdout",
          "text": [
            "              precision    recall  f1-score   support\n",
            "\n",
            "           0       0.82      0.85      0.83     24988\n",
            "           1       0.85      0.81      0.83     24929\n",
            "\n",
            "    accuracy                           0.83     49917\n",
            "   macro avg       0.83      0.83      0.83     49917\n",
            "weighted avg       0.83      0.83      0.83     49917\n",
            "\n",
            "Confusion matrix, without normalization\n",
            "[[20109  4820]\n",
            " [ 3632 21356]]\n"
          ]
        },
        {
          "output_type": "display_data",
          "data": {
            "image/png": "[encoded data removed]",
            "text/plain": [
              "<Figure size 432x288 with 2 Axes>"
            ]
          },
          "metadata": {}
        }
      ]
    },
    {
      "cell_type": "markdown",
      "metadata": {
        "id": "4tsyv_yMf3Fz"
      },
      "source": [
        "Using the balanced data we are able to see a more realistic results of the F1 score. As a bank we would be interested in a balanced value of precision and recall. \n",
        "\n",
        "We want to avail loans to the maximum customer base, thus we want to avoid a situaton where the model would flag an individual as a defaulter when it is the case that they are not. \n",
        "On the other hand we would also want to reduce LGD, Loss Given defautlt, by having a model with a higher recall value, in the sense, that when one applying for a facility is a defaulter, they need to be flagged as such. "
      ]
    },
    {
      "cell_type": "markdown",
      "metadata": {
        "id": "Uu27VYMVf3Fz"
      },
      "source": [
        "##  FEATURE IMPORTANCE \n",
        "- This is optional and it is a compensating control to ensure the model is not overlearning on one feauture. "
      ]
    },
    {
      "cell_type": "code",
      "metadata": {
        "id": "GM-vlRf6f3Fz",
        "colab": {
          "base_uri": "https://localhost:8080/",
          "height": 773
        },
        "outputId": "b0565bd2-32fa-493a-dc3b-9eda7b88f2b2"
      },
      "source": [
        "# from sklearn.preprocessing import  RobustScaler, FunctionTransformer\n",
        "# Build random forest classifier\n",
        "rf_clf = RandomForestClassifier(n_estimators=500,\n",
        "                                max_features=0.25,\n",
        "                                criterion=\"entropy\",\n",
        "                                class_weight=\"balanced\")\n",
        "\n",
        "from sklearn.preprocessing import RobustScaler\n",
        "# fit RF to plot feature importances\n",
        "rf_clf.fit(RobustScaler().fit_transform(SimpleImputer(strategy=\"median\").fit_transform(x_train)), y_train)\n",
        "\n",
        "# Plot features importance\n",
        "importances = rf_clf.feature_importances_\n",
        "indices = np.argsort(rf_clf.feature_importances_)[::-1]\n",
        "plt.figure(figsize=(12, 6))\n",
        "plt.bar(range(1, 19), importances[indices], align=\"center\")\n",
        "plt.xticks(range(1, 19), data.columns[data.columns != \"target_variable\"][indices], rotation=90)\n",
        "plt.title(\"Feature Importance\", {\"fontsize\": 16});"
      ],
      "execution_count": null,
      "outputs": [
        {
          "output_type": "display_data",
          "data": {
            "image/png": "[encoded data removed]",
            "text/plain": [
              "<Figure size 864x432 with 1 Axes>"
            ]
          },
          "metadata": {}
        }
      ]
    },
    {
      "cell_type": "markdown",
      "metadata": {
        "id": "_cQIzggFf3F0"
      },
      "source": [
        "Tuning (it is worth noting that feature engineering is of much importance than hyperparametere tuning as the perfomance  improvement with the latter is always only marginal)"
      ]
    },
    {
      "cell_type": "markdown",
      "metadata": {
        "id": "6P69ikUBf3F0"
      },
      "source": [
        "# MODEL VALIDATON\n"
      ]
    },
    {
      "cell_type": "markdown",
      "metadata": {
        "id": "jNk5xVRbf3F0"
      },
      "source": [
        "## Generating credit scores"
      ]
    },
    {
      "cell_type": "code",
      "metadata": {
        "id": "MkTd51R7f3F0",
        "colab": {
          "base_uri": "https://localhost:8080/"
        },
        "outputId": "beaed11c-6c24-48bf-e72e-08a6425b0181"
      },
      "source": [
        "y_hat=model.predict(x_test)\n",
        "y_hat_2=(model.predict_proba(x_test)[:,1]>0.3).astype(int)\n",
        "## It is worth noting that one can vary the threshold for default given the lending facility's risk appetite. \n",
        "print(f1_score(y_test,y_hat),f1_score(y_test,y_hat_2))"
      ],
      "execution_count": null,
      "outputs": [
        {
          "output_type": "stream",
          "name": "stdout",
          "text": [
            "0.8263406615985206 0.8151689853971761\n"
          ]
        }
      ]
    },
    {
      "cell_type": "code",
      "metadata": {
        "id": "TeG_LWEff3F1",
        "colab": {
          "base_uri": "https://localhost:8080/"
        },
        "outputId": "2519bc45-d74e-48a8-f813-59a778587c3e"
      },
      "source": [
        "from sklearn.metrics import recall_score, precision_score\n",
        "print(recall_score(y_test,y_hat),recall_score(y_test,y_hat_2))"
      ],
      "execution_count": null,
      "outputs": [
        {
          "output_type": "stream",
          "name": "stdout",
          "text": [
            "0.8066508885234065 0.9472100766175939\n"
          ]
        }
      ]
    },
    {
      "cell_type": "markdown",
      "metadata": {
        "id": "HVQapSBuf3F1"
      },
      "source": [
        "#### The following forms our basis for rank ordering \n",
        "0 - 200 Bad Customer ,\n",
        "- 201-350 2nd Worst, \n",
        "- 351 - 500 Not So bad,\n",
        "- 501 - 700 Ideal guys, \n",
        "- 700> Big loans "
      ]
    },
    {
      "cell_type": "code",
      "metadata": {
        "id": "uTKE8cIff3F1",
        "colab": {
          "base_uri": "https://localhost:8080/"
        },
        "outputId": "e1c15fdc-3e7e-4ff3-e2b6-2d22253b1dc8"
      },
      "source": [
        "(model.predict_proba(x_test)[:,1]>0.5).astype(int)"
      ],
      "execution_count": null,
      "outputs": [
        {
          "output_type": "execute_result",
          "data": {
            "text/plain": [
              "array([0, 1, 0, ..., 1, 1, 1])"
            ]
          },
          "metadata": {},
          "execution_count": 354
        }
      ]
    },
    {
      "cell_type": "code",
      "metadata": {
        "colab": {
          "base_uri": "https://localhost:8080/"
        },
        "id": "RrQRC1d0ijnj",
        "outputId": "61adfed8-cb8c-4be5-9820-e7f5d0a4d2ea"
      },
      "source": [
        "model.predict_proba(x_test)[0:10,1]"
      ],
      "execution_count": null,
      "outputs": [
        {
          "output_type": "execute_result",
          "data": {
            "text/plain": [
              "array([0.42, 0.85, 0.23, 0.73, 0.83, 0.21, 0.54, 0.23, 0.12, 0.24])"
            ]
          },
          "metadata": {},
          "execution_count": 355
        }
      ]
    },
    {
      "cell_type": "code",
      "metadata": {
        "id": "n6kpw5R0f3F1",
        "colab": {
          "base_uri": "https://localhost:8080/"
        },
        "outputId": "5a814fbc-1cf4-472c-90f1-e38ed5430a64"
      },
      "source": [
        "(1-model.predict_proba(x_test)[0:10,1])*1000"
      ],
      "execution_count": null,
      "outputs": [
        {
          "output_type": "execute_result",
          "data": {
            "text/plain": [
              "array([579.57, 152.53, 771.96, 274.58, 168.  , 792.22, 457.38, 767.64,\n",
              "       884.5 , 764.93])"
            ]
          },
          "metadata": {},
          "execution_count": 356
        }
      ]
    },
    {
      "cell_type": "code",
      "metadata": {
        "id": "Emv2TYZ4f3F1"
      },
      "source": [
        "x_test['score']=(1-model.predict_proba(x_test)[:, 1])*1000\n",
        "x_test['risk']=y_hat"
      ],
      "execution_count": null,
      "outputs": []
    },
    {
      "cell_type": "code",
      "metadata": {
        "id": "FUXTWZsmf3F2",
        "colab": {
          "base_uri": "https://localhost:8080/",
          "height": 195
        },
        "outputId": "b68d873b-f752-4967-8c7f-bd22412b8288"
      },
      "source": [
        "x_test.head(4)"
      ],
      "execution_count": null,
      "outputs": [
        {
          "output_type": "execute_result",
          "data": {
            "text/html": [
              "<div>\n",
              "<style scoped>\n",
              "    .dataframe tbody tr th:only-of-type {\n",
              "        vertical-align: middle;\n",
              "    }\n",
              "\n",
              "    .dataframe tbody tr th {\n",
              "        vertical-align: top;\n",
              "    }\n",
              "\n",
              "    .dataframe thead th {\n",
              "        text-align: right;\n",
              "    }\n",
              "</style>\n",
              "<table border=\"1\" class=\"dataframe\">\n",
              "  <thead>\n",
              "    <tr style=\"text-align: right;\">\n",
              "      <th></th>\n",
              "      <th>no_of_times_bounced_12_months</th>\n",
              "      <th>maximum_mob</th>\n",
              "      <th>no_of_times_bounced_while_repaying_the_loan</th>\n",
              "      <th>emi</th>\n",
              "      <th>loan_amount</th>\n",
              "      <th>tenure</th>\n",
              "      <th>dealer_codes_from_where_customer_has_purchased_the_two_wheeler</th>\n",
              "      <th>product_code_of_two_wheeler</th>\n",
              "      <th>no_of_advance_emi_paid</th>\n",
              "      <th>rate_of_interest</th>\n",
              "      <th>date_of_birth</th>\n",
              "      <th>customer_age_when_loanwas_taken</th>\n",
              "      <th>no_of_loans</th>\n",
              "      <th>no_of_unsecured_loans</th>\n",
              "      <th>no_of_times_30_days_past_due_in_last_6_months</th>\n",
              "      <th>no_of_times_60_days_past_due_in_last_6_months</th>\n",
              "      <th>no_of_times_90_days_past_due_in_last_3_months</th>\n",
              "      <th>tier</th>\n",
              "      <th>score</th>\n",
              "      <th>risk</th>\n",
              "    </tr>\n",
              "  </thead>\n",
              "  <tbody>\n",
              "    <tr>\n",
              "      <th>147007</th>\n",
              "      <td>0</td>\n",
              "      <td>14.620352</td>\n",
              "      <td>0.062035</td>\n",
              "      <td>2612.208226</td>\n",
              "      <td>39004.652641</td>\n",
              "      <td>18.372211</td>\n",
              "      <td>3472.932691</td>\n",
              "      <td>0</td>\n",
              "      <td>0.000000</td>\n",
              "      <td>14.720597</td>\n",
              "      <td>827</td>\n",
              "      <td>29.186106</td>\n",
              "      <td>1</td>\n",
              "      <td>0</td>\n",
              "      <td>0</td>\n",
              "      <td>0</td>\n",
              "      <td>0</td>\n",
              "      <td>3</td>\n",
              "      <td>579.566456</td>\n",
              "      <td>0</td>\n",
              "    </tr>\n",
              "    <tr>\n",
              "      <th>87113</th>\n",
              "      <td>0</td>\n",
              "      <td>19.207435</td>\n",
              "      <td>0.867906</td>\n",
              "      <td>2349.853278</td>\n",
              "      <td>46466.047076</td>\n",
              "      <td>23.603718</td>\n",
              "      <td>2733.980422</td>\n",
              "      <td>2</td>\n",
              "      <td>1.264188</td>\n",
              "      <td>9.734491</td>\n",
              "      <td>2243</td>\n",
              "      <td>46.660471</td>\n",
              "      <td>4</td>\n",
              "      <td>2</td>\n",
              "      <td>8</td>\n",
              "      <td>7</td>\n",
              "      <td>2</td>\n",
              "      <td>1</td>\n",
              "      <td>152.534304</td>\n",
              "      <td>1</td>\n",
              "    </tr>\n",
              "    <tr>\n",
              "      <th>10023</th>\n",
              "      <td>0</td>\n",
              "      <td>21.000000</td>\n",
              "      <td>0.000000</td>\n",
              "      <td>2048.000000</td>\n",
              "      <td>39000.000000</td>\n",
              "      <td>24.000000</td>\n",
              "      <td>3946.000000</td>\n",
              "      <td>0</td>\n",
              "      <td>0.000000</td>\n",
              "      <td>13.000000</td>\n",
              "      <td>1601</td>\n",
              "      <td>35.000000</td>\n",
              "      <td>1</td>\n",
              "      <td>0</td>\n",
              "      <td>0</td>\n",
              "      <td>0</td>\n",
              "      <td>0</td>\n",
              "      <td>1</td>\n",
              "      <td>771.960688</td>\n",
              "      <td>0</td>\n",
              "    </tr>\n",
              "    <tr>\n",
              "      <th>106112</th>\n",
              "      <td>0</td>\n",
              "      <td>12.308281</td>\n",
              "      <td>0.000000</td>\n",
              "      <td>2456.968000</td>\n",
              "      <td>33930.828108</td>\n",
              "      <td>15.924843</td>\n",
              "      <td>3906.620064</td>\n",
              "      <td>0</td>\n",
              "      <td>2.075157</td>\n",
              "      <td>10.996910</td>\n",
              "      <td>53</td>\n",
              "      <td>23.233124</td>\n",
              "      <td>1</td>\n",
              "      <td>0</td>\n",
              "      <td>3</td>\n",
              "      <td>2</td>\n",
              "      <td>1</td>\n",
              "      <td>2</td>\n",
              "      <td>274.582843</td>\n",
              "      <td>1</td>\n",
              "    </tr>\n",
              "  </tbody>\n",
              "</table>\n",
              "</div>"
            ],
            "text/plain": [
              "        no_of_times_bounced_12_months  maximum_mob  ...       score  risk\n",
              "147007                              0    14.620352  ...  579.566456     0\n",
              "87113                               0    19.207435  ...  152.534304     1\n",
              "10023                               0    21.000000  ...  771.960688     0\n",
              "106112                              0    12.308281  ...  274.582843     1\n",
              "\n",
              "[4 rows x 20 columns]"
            ]
          },
          "metadata": {},
          "execution_count": 358
        }
      ]
    },
    {
      "cell_type": "code",
      "metadata": {
        "id": "AlpXZknUQOLV"
      },
      "source": [],
      "execution_count": null,
      "outputs": []
    },
    {
      "cell_type": "code",
      "metadata": {
        "id": "7ywZWoA9f3F2"
      },
      "source": [
        "# Export the model scores result to CSV to be able to perform rank ordering within Excel template provided\n",
        "x_test.to_csv('credit-risk-scores-vjc.csv')"
      ],
      "execution_count": null,
      "outputs": []
    },
    {
      "cell_type": "code",
      "metadata": {
        "id": "sNAv21XZf3F2"
      },
      "source": [
        "probs=model.predict_proba(x_train)"
      ],
      "execution_count": null,
      "outputs": []
    }
  ]
}